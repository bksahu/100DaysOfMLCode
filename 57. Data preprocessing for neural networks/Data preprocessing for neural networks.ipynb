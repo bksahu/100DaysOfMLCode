{
 "cells": [
  {
   "cell_type": "markdown",
   "metadata": {},
   "source": [
    "# _Data preprocessing for neural networks_\n",
    "\n",
    "Data preprocessing aims at making the raw data at hand more amenable to neural networks. This includes vectorization, normalization, handling missing values, and feature extraction."
   ]
  },
  {
   "cell_type": "markdown",
   "metadata": {},
   "source": [
    "#### VECTORIZATION\n",
    "\n",
    "- All inputs and targets in a neural network must be tensor of floating-point data (or in some case tensor of integers)\n",
    "- For example, in case of text classification we use one-hot encoding to convert the data into tensors fo `float32`"
   ]
  },
  {
   "cell_type": "markdown",
   "metadata": {},
   "source": [
    "#### VALUE NORMALIZATION\n",
    "\n",
    "- Take small values—Typically, most values should be in the 0–1 range.\n",
    "- Be homogenous—That is, all features should take values in roughly the same range.\n",
    "\n",
    "Additionally, the following stricter normalization practice is common and can help, although it isn’t always necessary\n",
    "\n",
    "- Normalize each feature independently to have a mean of 0.\n",
    "- Normalize each feature independently to have a standard deviation of 1."
   ]
  },
  {
   "cell_type": "markdown",
   "metadata": {},
   "source": [
    "#### HANDLING MISSING VALUES\n",
    "\n",
    "- It’s safe to input missing values as 0, with the condition that 0 isn’t already a meaningful value.\n",
    "\n",
    "Note that if you’re expecting missing values in the test data, but the network was trained on data without any missing values, the network won’t have learned to ignore missing values! In this situation, you should artificially generate training samples with missing entries: copy some training samples several times, and drop some of the features that you expect are likely to be missing in the test data."
   ]
  }
 ],
 "metadata": {
  "kernelspec": {
   "display_name": "Python 3",
   "language": "python",
   "name": "python3"
  },
  "language_info": {
   "codemirror_mode": {
    "name": "ipython",
    "version": 3
   },
   "file_extension": ".py",
   "mimetype": "text/x-python",
   "name": "python",
   "nbconvert_exporter": "python",
   "pygments_lexer": "ipython3",
   "version": "3.6.5"
  }
 },
 "nbformat": 4,
 "nbformat_minor": 2
}
