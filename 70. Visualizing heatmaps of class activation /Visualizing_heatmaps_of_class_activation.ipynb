{
  "nbformat": 4,
  "nbformat_minor": 0,
  "metadata": {
    "colab": {
      "name": "Visualizing heatmaps of class activation.ipynb",
      "version": "0.3.2",
      "provenance": [],
      "collapsed_sections": []
    },
    "kernelspec": {
      "display_name": "Python 3",
      "language": "python",
      "name": "python3"
    }
  },
  "cells": [
    {
      "metadata": {
        "id": "5ePhpJaAYSVZ",
        "colab_type": "code",
        "colab": {
          "base_uri": "https://localhost:8080/",
          "height": 52
        },
        "outputId": "a91dae87-0d61-4efc-f700-a61503076d46"
      },
      "cell_type": "code",
      "source": [
        "import keras\n",
        "keras.__version__"
      ],
      "execution_count": 1,
      "outputs": [
        {
          "output_type": "stream",
          "text": [
            "Using TensorFlow backend.\n"
          ],
          "name": "stderr"
        },
        {
          "output_type": "execute_result",
          "data": {
            "text/plain": [
              "'2.1.6'"
            ]
          },
          "metadata": {
            "tags": []
          },
          "execution_count": 1
        }
      ]
    },
    {
      "metadata": {
        "id": "dAnY1abwYSVo",
        "colab_type": "text"
      },
      "cell_type": "markdown",
      "source": [
        "# Visualizing heatmaps of class activation\n",
        "\n",
        "It is useful for understanding whihc parts of a given image led a convnet to its final classification decision.\n",
        "\n",
        "This general category of techniques is called \"Class Activation Map\" (CAM) visualization, and consists in producing heatmaps of \"class activation\" over input images. A \"class activation\" heatmap is a 2D grid of scores associated with an specific output class, computed for every location in any input image, indicating how important each location is with respect to the class considered. For instance, given a image fed into one of our \"cat vs. dog\" convnet, Class Activation Map visualization allows us to generate a heatmap for the class \"cat\", indicating how cat-like different parts of the image are, and likewise for the class \"dog\", indicating how dog-like differents parts of the image are."
      ]
    },
    {
      "metadata": {
        "id": "0Rq84DChYSVr",
        "colab_type": "code",
        "colab": {
          "base_uri": "https://localhost:8080/",
          "height": 52
        },
        "outputId": "eb7a7c66-b7ab-4fe8-ee87-16ca7d49b72c"
      },
      "cell_type": "code",
      "source": [
        "from keras.applications.vgg16 import VGG16\n",
        "\n",
        "model = VGG16(weights='imagenet')"
      ],
      "execution_count": 2,
      "outputs": [
        {
          "output_type": "stream",
          "text": [
            "Downloading data from https://github.com/fchollet/deep-learning-models/releases/download/v0.1/vgg16_weights_tf_dim_ordering_tf_kernels.h5\n",
            "553467904/553467096 [==============================] - 5s 0us/step\n"
          ],
          "name": "stdout"
        }
      ]
    },
    {
      "metadata": {
        "id": "J_jEcQQBYSV2",
        "colab_type": "text"
      },
      "cell_type": "markdown",
      "source": [
        "Let's consider the following image of two African elephants, possible a mother and its cub, strolling in the savanna.\n",
        "\n",
        "\n",
        "![elephants](https://s3.amazonaws.com/book.keras.io/img/ch5/creative_commons_elephant.jpg)"
      ]
    },
    {
      "metadata": {
        "id": "958-s8kpYSV6",
        "colab_type": "text"
      },
      "cell_type": "markdown",
      "source": [
        "Let's convert this image into something the VGG16 model can read: the model was trained on images of size 244x244, preprocessed according to a few rules that are packaged in the utility function `keras.applications.vgg16.preprocess_input`. So we need to load the image, resize it to 244x244, convert it to a Numpy float32 tensor, and apply these pre-processing rules."
      ]
    },
    {
      "metadata": {
        "id": "e-N1afZ9YSV7",
        "colab_type": "code",
        "colab": {}
      },
      "cell_type": "code",
      "source": [
        "from keras.preprocessing import image\n",
        "from keras.applications.vgg16 import preprocess_input, decode_predictions\n",
        "import numpy as np\n",
        "\n",
        "# The local path to our target image\n",
        "img_path = 'creative_commons_elephant.jpg'\n",
        "\n",
        "# `img` is a PIL image of size 224x224\n",
        "img = image.load_img(img_path, target_size=(224, 224))\n",
        "\n",
        "# `x` is a float32 Numpy array of shape (224, 224, 3)\n",
        "x = image.img_to_array(img)\n",
        "\n",
        "# We add a dimension to transform our array into a \"batch\"\n",
        "# of size (1, 224, 224, 3)\n",
        "x = np.expand_dims(x, axis=0)\n",
        "\n",
        "# Finally we preprocess the batch\n",
        "# (this does channel-wise color normalization)\n",
        "x = preprocess_input(x)"
      ],
      "execution_count": 0,
      "outputs": []
    },
    {
      "metadata": {
        "id": "ulIlUZQJYSWC",
        "colab_type": "code",
        "colab": {
          "base_uri": "https://localhost:8080/",
          "height": 69
        },
        "outputId": "0f779984-fc85-427f-d948-e765f0d16b2f"
      },
      "cell_type": "code",
      "source": [
        "preds = model.predict(x)\n",
        "print('Predicted: ', decode_predictions(preds, top=3)[0])"
      ],
      "execution_count": 11,
      "outputs": [
        {
          "output_type": "stream",
          "text": [
            "Downloading data from https://s3.amazonaws.com/deep-learning-models/image-models/imagenet_class_index.json\n",
            "40960/35363 [==================================] - 0s 1us/step\n",
            "Predicted:  [('n02504458', 'African_elephant', 0.9094207), ('n01871265', 'tusker', 0.08618318), ('n02504013', 'Indian_elephant', 0.0043545896)]\n"
          ],
          "name": "stdout"
        }
      ]
    },
    {
      "metadata": {
        "id": "tRwuhXjaaIUC",
        "colab_type": "text"
      },
      "cell_type": "markdown",
      "source": [
        "Our network has recognized our image as containing an indetermined quality of African elephants. The entry in the prediction vector that was maximally activated is the one corresponding to the \"African elephant\" class, at index 386:"
      ]
    },
    {
      "metadata": {
        "id": "5bNqAo4FYSWP",
        "colab_type": "code",
        "colab": {
          "base_uri": "https://localhost:8080/",
          "height": 34
        },
        "outputId": "532c35a5-5de6-472b-9d63-9870c85ddcae"
      },
      "cell_type": "code",
      "source": [
        "np.argmax(preds[0])"
      ],
      "execution_count": 12,
      "outputs": [
        {
          "output_type": "execute_result",
          "data": {
            "text/plain": [
              "386"
            ]
          },
          "metadata": {
            "tags": []
          },
          "execution_count": 12
        }
      ]
    },
    {
      "metadata": {
        "id": "Rh1a2RYSYSWW",
        "colab_type": "code",
        "colab": {}
      },
      "cell_type": "code",
      "source": [
        "# Set up Grad-CAM process\n",
        "from keras import backend as K\n",
        "\n",
        "\n",
        "# This is the \"african elephant\" entry in the prediction vector\n",
        "african_elephant_output = model.output[:, 386]\n",
        "\n",
        "# The is the output feature map of the `block5_conv3` layer,\n",
        "# the last convolutional layer in VGG16\n",
        "last_conv_layer = model.get_layer('block5_conv3')\n",
        "\n",
        "# This is the gradient of the \"african elephant\" class with regard to\n",
        "# the output feature map of `block5_conv3`\n",
        "grads = K.gradients(african_elephant_output, last_conv_layer.output)[0]\n",
        "\n",
        "# This is a vector of shape (512,), where each entry\n",
        "# is the mean intensity of the gradient over a specific feature map channel\n",
        "pooled_grads = K.mean(grads, axis=(0, 1, 2))\n",
        "\n",
        "# This function allows us to access the values of the quantities we just defined:\n",
        "# `pooled_grads` and the output feature map of `block5_conv3`,\n",
        "# given a sample image\n",
        "iterate = K.function([model.input], [pooled_grads, last_conv_layer.output[0]])\n",
        "\n",
        "# These are the values of these two quantities, as Numpy arrays,\n",
        "# given our sample image of two elephants\n",
        "pooled_grads_value, conv_layer_output_value = iterate([x])\n",
        "\n",
        "# We multiply each channel in the feature map array\n",
        "# by \"how important this channel is\" with regard to the elephant class\n",
        "for i in range(512):\n",
        "    conv_layer_output_value[:, :, i] *= pooled_grads_value[i]\n",
        "\n",
        "# The channel-wise mean of the resulting feature map\n",
        "# is our heatmap of class activation\n",
        "heatmap = np.mean(conv_layer_output_value, axis=-1)\n"
      ],
      "execution_count": 0,
      "outputs": []
    },
    {
      "metadata": {
        "id": "PK2vG_-JbSFe",
        "colab_type": "code",
        "colab": {
          "base_uri": "https://localhost:8080/",
          "height": 355
        },
        "outputId": "2f4951c2-e76c-42d2-c59d-f4a44eff3c38"
      },
      "cell_type": "code",
      "source": [
        "import matplotlib.pyplot as plt\n",
        "\n",
        "heatmap = np.maximum(heatmap, 0)\n",
        "heatmap /= np.max(heatmap)\n",
        "plt.matshow(heatmap, cmap='viridis')\n",
        "plt.show()"
      ],
      "execution_count": 17,
      "outputs": [
        {
          "output_type": "display_data",
          "data": {
            "image/png": "[encoded data removed]",
            "text/plain": [
              "<matplotlib.figure.Figure at 0x7fb2422447f0>"
            ]
          },
          "metadata": {
            "tags": []
          }
        }
      ]
    },
    {
      "metadata": {
        "id": "GCzK6n36biwS",
        "colab_type": "code",
        "colab": {
          "base_uri": "https://localhost:8080/",
          "height": 34
        },
        "outputId": "d0a167bd-f449-4460-9ad9-adafd26cebfd"
      },
      "cell_type": "code",
      "source": [
        "import cv2\n",
        "\n",
        "# We use cv2 to load the original image\n",
        "img = cv2.imread(img_path)\n",
        "\n",
        "# We resize the heatmap to have the same size as the original image\n",
        "heatmap = cv2.resize(heatmap, (img.shape[1], img.shape[0]))\n",
        "\n",
        "# We convert the heatmap to RGB\n",
        "heatmap = np.uint8(255 * heatmap)\n",
        "\n",
        "# We apply the heatmap to the original image\n",
        "heatmap = cv2.applyColorMap(heatmap, cv2.COLORMAP_JET)\n",
        "\n",
        "# 0.4 here is a heatmap intensity factor\n",
        "superimposed_img = heatmap * 0.4 + img\n",
        "\n",
        "# Save the image to disk\n",
        "cv2.imwrite('elephant_cam.jpg', superimposed_img)"
      ],
      "execution_count": 19,
      "outputs": [
        {
          "output_type": "execute_result",
          "data": {
            "text/plain": [
              "True"
            ]
          },
          "metadata": {
            "tags": []
          },
          "execution_count": 19
        }
      ]
    },
    {
      "metadata": {
        "id": "obsrHdeqcF_P",
        "colab_type": "text"
      },
      "cell_type": "markdown",
      "source": [
        "![elephant cam](https://s3.amazonaws.com/book.keras.io/img/ch5/elephant_cam.jpg)"
      ]
    },
    {
      "metadata": {
        "id": "d6X1OYHPcN2A",
        "colab_type": "text"
      },
      "cell_type": "markdown",
      "source": [
        "This visualisation technique answers two important questions:\n",
        "\n",
        "  *  Why did the network think this image contained an African elephant?\n",
        " *   Where is the African elephant located in the picture?\n",
        "\n",
        "In particular, it is interesting to note that the ears of the elephant cub are strongly activated: this is probably how the network can tell the difference between African and Indian elephants.\n"
      ]
    }
  ]
}