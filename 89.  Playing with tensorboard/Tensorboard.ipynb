{
 "cells": [
  {
   "cell_type": "code",
   "execution_count": 1,
   "metadata": {},
   "outputs": [
    {
     "name": "stderr",
     "output_type": "stream",
     "text": [
      "Using TensorFlow backend.\n"
     ]
    }
   ],
   "source": [
    "import keras\n",
    "from keras import layers\n",
    "from keras.datasets import imdb\n",
    "from keras.preprocessing import sequence"
   ]
  },
  {
   "cell_type": "code",
   "execution_count": 2,
   "metadata": {},
   "outputs": [],
   "source": [
    "max_features = 2000\n",
    "max_len = 500\n",
    "\n",
    "(x_train, y_train), (x_test, y_test) = imdb.load_data(num_words=max_features)\n",
    "x_train = sequence.pad_sequences(x_train, maxlen=max_len)\n",
    "x_test = sequence.pad_sequences(x_test, maxlen=max_len)"
   ]
  },
  {
   "cell_type": "code",
   "execution_count": 3,
   "metadata": {},
   "outputs": [
    {
     "name": "stdout",
     "output_type": "stream",
     "text": [
      "_________________________________________________________________\n",
      "Layer (type)                 Output Shape              Param #   \n",
      "=================================================================\n",
      "embed (Embedding)            (None, 500, 128)          256000    \n",
      "_________________________________________________________________\n",
      "conv1d_1 (Conv1D)            (None, 494, 32)           28704     \n",
      "_________________________________________________________________\n",
      "max_pooling1d_1 (MaxPooling1 (None, 98, 32)            0         \n",
      "_________________________________________________________________\n",
      "conv1d_2 (Conv1D)            (None, 92, 32)            7200      \n",
      "_________________________________________________________________\n",
      "global_max_pooling1d_1 (Glob (None, 32)                0         \n",
      "_________________________________________________________________\n",
      "dense_1 (Dense)              (None, 1)                 33        \n",
      "=================================================================\n",
      "Total params: 291,937\n",
      "Trainable params: 291,937\n",
      "Non-trainable params: 0\n",
      "_________________________________________________________________\n"
     ]
    }
   ],
   "source": [
    "model = keras.models.Sequential()\n",
    "\n",
    "model.add(layers.Embedding(max_features, 128,\n",
    "          input_length=max_len,\n",
    "          name='embed'))\n",
    "model.add(layers.Conv1D(32, 7, activation='relu'))\n",
    "model.add(layers.MaxPooling1D(5))\n",
    "model.add(layers.Conv1D(32, 7, activation='relu'))\n",
    "model.add(layers.GlobalMaxPooling1D())\n",
    "model.add(layers.Dense(1))\n",
    "\n",
    "model.summary()\n",
    "\n",
    "model.compile(optimizer='rmsprop',\n",
    "              loss='binary_crossentropy',\n",
    "              metrics=['acc'])"
   ]
  },
  {
   "cell_type": "code",
   "execution_count": 4,
   "metadata": {},
   "outputs": [],
   "source": [
    "!mkdir my_log_dir"
   ]
  },
  {
   "cell_type": "code",
   "execution_count": 8,
   "metadata": {},
   "outputs": [],
   "source": [
    "import numpy as np\n",
    "callbacks = [\n",
    "    keras.callbacks.TensorBoard(\n",
    "        log_dir='my_log_dir',\n",
    "        histogram_freq=1,\n",
    "        embeddings_freq=1,\n",
    "        embeddings_data = np.arange(0, max_len).reshape((1, max_len)),\n",
    "    )\n",
    "]"
   ]
  },
  {
   "cell_type": "code",
   "execution_count": 9,
   "metadata": {
    "scrolled": true
   },
   "outputs": [
    {
     "name": "stdout",
     "output_type": "stream",
     "text": [
      "Train on 20000 samples, validate on 5000 samples\n",
      "Epoch 1/20\n",
      "20000/20000 [==============================] - 8s 380us/step - loss: 0.4418 - acc: 0.8163 - val_loss: 0.4280 - val_acc: 0.8364\n",
      "Epoch 2/20\n",
      "20000/20000 [==============================] - 8s 379us/step - loss: 0.3941 - acc: 0.8071 - val_loss: 0.4389 - val_acc: 0.8156\n",
      "Epoch 3/20\n",
      "20000/20000 [==============================] - 8s 385us/step - loss: 0.3434 - acc: 0.7963 - val_loss: 0.4568 - val_acc: 0.7966\n",
      "Epoch 4/20\n",
      "20000/20000 [==============================] - 8s 380us/step - loss: 0.2884 - acc: 0.7665 - val_loss: 0.5856 - val_acc: 0.6746\n",
      "Epoch 5/20\n",
      "20000/20000 [==============================] - 8s 381us/step - loss: 0.2667 - acc: 0.7179 - val_loss: 0.5586 - val_acc: 0.6758\n",
      "Epoch 6/20\n",
      "20000/20000 [==============================] - 8s 381us/step - loss: 0.2187 - acc: 0.6590 - val_loss: 0.6619 - val_acc: 0.5864\n",
      "Epoch 7/20\n",
      "20000/20000 [==============================] - 8s 382us/step - loss: 0.1709 - acc: 0.6023 - val_loss: 0.6865 - val_acc: 0.5338\n",
      "Epoch 8/20\n",
      "20000/20000 [==============================] - 8s 380us/step - loss: 0.1334 - acc: 0.5749 - val_loss: 0.7534 - val_acc: 0.4870\n",
      "Epoch 9/20\n",
      "20000/20000 [==============================] - 8s 386us/step - loss: 0.1228 - acc: 0.4905 - val_loss: 0.8498 - val_acc: 0.4370\n",
      "Epoch 10/20\n",
      "20000/20000 [==============================] - 8s 394us/step - loss: 0.1107 - acc: 0.4114 - val_loss: 0.8976 - val_acc: 0.3864\n",
      "Epoch 11/20\n",
      "20000/20000 [==============================] - 8s 389us/step - loss: 0.0979 - acc: 0.3605 - val_loss: 0.9418 - val_acc: 0.3572\n",
      "Epoch 12/20\n",
      "20000/20000 [==============================] - 8s 392us/step - loss: 0.0891 - acc: 0.3123 - val_loss: 1.0571 - val_acc: 0.3076\n",
      "Epoch 13/20\n",
      "20000/20000 [==============================] - 8s 382us/step - loss: 0.0860 - acc: 0.2657 - val_loss: 1.0097 - val_acc: 0.3084\n",
      "Epoch 14/20\n",
      "20000/20000 [==============================] - 7s 372us/step - loss: 0.0820 - acc: 0.2361 - val_loss: 1.0394 - val_acc: 0.2866\n",
      "Epoch 15/20\n",
      "20000/20000 [==============================] - 8s 383us/step - loss: 0.0958 - acc: 0.2051 - val_loss: 1.2189 - val_acc: 0.2578\n",
      "Epoch 16/20\n",
      "20000/20000 [==============================] - 8s 380us/step - loss: 0.0837 - acc: 0.1841 - val_loss: 1.0988 - val_acc: 0.2722\n",
      "Epoch 17/20\n",
      "20000/20000 [==============================] - 8s 381us/step - loss: 0.0809 - acc: 0.1637 - val_loss: 1.1796 - val_acc: 0.2462\n",
      "Epoch 18/20\n",
      "20000/20000 [==============================] - 8s 413us/step - loss: 0.0796 - acc: 0.1513 - val_loss: 1.1578 - val_acc: 0.2444\n",
      "Epoch 19/20\n",
      "20000/20000 [==============================] - 8s 388us/step - loss: 0.0845 - acc: 0.1396 - val_loss: 1.1954 - val_acc: 0.2300\n",
      "Epoch 20/20\n",
      "20000/20000 [==============================] - 8s 387us/step - loss: 0.0792 - acc: 0.1272 - val_loss: 1.2353 - val_acc: 0.2164\n"
     ]
    }
   ],
   "source": [
    "history = model.fit(x_train, y_train,\n",
    "                    epochs=20,\n",
    "                    batch_size=128,\n",
    "                    validation_split=0.2,\n",
    "                    callbacks=callbacks)"
   ]
  },
  {
   "cell_type": "code",
   "execution_count": 10,
   "metadata": {},
   "outputs": [
    {
     "name": "stdout",
     "output_type": "stream",
     "text": [
      "\u001b[33mW1004 09:38:41.404395 Reloader tf_logging.py:120] Found more than one graph event per run, or there was a metagraph containing a graph_def, as well as one or more graph events.  Overwriting the graph with the newest event.\n",
      "\u001b[0mTensorBoard 1.9.0 at http://death-note:6006 (Press CTRL+C to quit)\n",
      "\u001b[33mW1004 09:38:48.481567 Thread-1 application.py:293] path /robots.txt not found, sending 404\n",
      "\u001b[0m\u001b[33mW1004 09:38:48.695165 Thread-1 application.py:293] path /[[_dataImageSrc]] not found, sending 404\n",
      "\u001b[0m\u001b[33mW1004 09:38:48.695701 Thread-2 application.py:293] path /[[_imageURL]] not found, sending 404\n",
      "\u001b[0m^C\n"
     ]
    }
   ],
   "source": [
    "!tensorboard --logdir=my_log_dir"
   ]
  }
 ],
 "metadata": {
  "kernelspec": {
   "display_name": "Python 3",
   "language": "python",
   "name": "python3"
  },
  "language_info": {
   "codemirror_mode": {
    "name": "ipython",
    "version": 3
   },
   "file_extension": ".py",
   "mimetype": "text/x-python",
   "name": "python",
   "nbconvert_exporter": "python",
   "pygments_lexer": "ipython3",
   "version": "3.6.6"
  }
 },
 "nbformat": 4,
 "nbformat_minor": 2
}
