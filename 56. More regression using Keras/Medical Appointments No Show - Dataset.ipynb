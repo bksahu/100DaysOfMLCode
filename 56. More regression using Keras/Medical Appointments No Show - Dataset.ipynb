{
 "cells": [
  {
   "cell_type": "markdown",
   "metadata": {},
   "source": [
    "This is a dataset that contains 300k medical appointments with characteristics (features) of the patients and whether the patient showed up in the appointment or not. We will try to create a Neural Network that given the characteristics of a patient will predict the probability of that patient showing up."
   ]
  },
  {
   "cell_type": "code",
   "execution_count": 1,
   "metadata": {},
   "outputs": [],
   "source": [
    "%matplotlib inline\n",
    "import matplotlib.pyplot as plt\n",
    "import seaborn as sns; sns.set()\n",
    "import pandas as pd\n",
    "import numpy as np"
   ]
  },
  {
   "cell_type": "code",
   "execution_count": 2,
   "metadata": {},
   "outputs": [
    {
     "name": "stdout",
     "output_type": "stream",
     "text": [
      "<class 'pandas.core.frame.DataFrame'>\n",
      "RangeIndex: 110527 entries, 0 to 110526\n",
      "Data columns (total 14 columns):\n",
      "PatientId         110527 non-null float64\n",
      "AppointmentID     110527 non-null int64\n",
      "Gender            110527 non-null object\n",
      "ScheduledDay      110527 non-null object\n",
      "AppointmentDay    110527 non-null object\n",
      "Age               110527 non-null int64\n",
      "Neighbourhood     110527 non-null object\n",
      "Scholarship       110527 non-null int64\n",
      "Hipertension      110527 non-null int64\n",
      "Diabetes          110527 non-null int64\n",
      "Alcoholism        110527 non-null int64\n",
      "Handcap           110527 non-null int64\n",
      "SMS_received      110527 non-null int64\n",
      "No-show           110527 non-null object\n",
      "dtypes: float64(1), int64(8), object(5)\n",
      "memory usage: 11.8+ MB\n",
      "None\n"
     ]
    }
   ],
   "source": [
    "\n",
    "df = pd.read_csv('data.csv')\n",
    "\n",
    "print(df.info())"
   ]
  },
  {
   "cell_type": "code",
   "execution_count": 3,
   "metadata": {},
   "outputs": [],
   "source": [
    "# Converts the two variables to datetime variables\n",
    "df['ScheduledDay'] = pd.to_datetime(df['ScheduledDay'])\n",
    "df['AppointmentDay'] = pd.to_datetime(df['AppointmentDay'])\n",
    "\n",
    "# Create a variable called \"AwaitingTime\" by subtracting the date the patient made the appointment and the date of the appointment.\n",
    "df['AwaitingTime'] = df[\"AppointmentDay\"].sub(df[\"ScheduledDay\"], axis=0)\n",
    "\n",
    "# Convert the result \"AwaitingTime\" to number of days between appointment day and scheduled day. \n",
    "df[\"AwaitingTime\"] = (df[\"AwaitingTime\"] / np.timedelta64(1, 'D')).abs()"
   ]
  },
  {
   "cell_type": "markdown",
   "metadata": {},
   "source": [
    "##### Recode Target Variable\n",
    "\n",
    "0 = Did not show up to appointment\n",
    "\n",
    "1 = Showed up to appointment\n"
   ]
  },
  {
   "cell_type": "code",
   "execution_count": 4,
   "metadata": {},
   "outputs": [],
   "source": [
    "# Replace Males with 0 and Females with 1\n",
    "df[\"Gender\"].replace(\"M\", 0, inplace=True)\n",
    "df[\"Gender\"].replace(\"F\", 1, inplace=True)\n",
    "\n",
    "# Replace No with 0 and Yes with 1\n",
    "df['No-show'].replace(\"No\", 0, inplace=True)\n",
    "df['No-show'].replace(\"Yes\", 1, inplace=True)"
   ]
  },
  {
   "cell_type": "code",
   "execution_count": 5,
   "metadata": {},
   "outputs": [],
   "source": [
    "# There are 5 types of handicaps\n",
    "# Convert to Categorical\n",
    "df['Handcap'] = pd.Categorical(df['Handcap'])\n",
    "\n",
    "# Convert to Dummy Variables\n",
    "Handicap = pd.get_dummies(df['Handcap'], prefix = 'Handicap')\n",
    "df = pd.concat([df, Handicap], axis=1)"
   ]
  },
  {
   "cell_type": "code",
   "execution_count": 6,
   "metadata": {},
   "outputs": [
    {
     "data": {
      "text/plain": [
       "Index(['PatientId', 'AppointmentID', 'Gender', 'ScheduledDay',\n",
       "       'AppointmentDay', 'Age', 'Neighbourhood', 'Scholarship', 'Hipertension',\n",
       "       'Diabetes', 'Alcoholism', 'Handcap', 'SMS_received', 'No-show',\n",
       "       'AwaitingTime', 'Handicap_0', 'Handicap_1', 'Handicap_2', 'Handicap_3',\n",
       "       'Handicap_4'],\n",
       "      dtype='object')"
      ]
     },
     "execution_count": 6,
     "metadata": {},
     "output_type": "execute_result"
    }
   ],
   "source": [
    "# Let's take a look at the columns\n",
    "df.columns"
   ]
  },
  {
   "cell_type": "code",
   "execution_count": 7,
   "metadata": {},
   "outputs": [],
   "source": [
    "df.drop([\"PatientId\",'AppointmentID','ScheduledDay','Handcap','AppointmentDay','Neighbourhood'], axis=1, inplace = True)"
   ]
  },
  {
   "cell_type": "code",
   "execution_count": 8,
   "metadata": {},
   "outputs": [],
   "source": [
    "X = df[['Gender', 'Diabetes','Hipertension', 'Scholarship', 'SMS_received',\n",
    "        'Handicap_0','Handicap_1','Handicap_2','Handicap_3','Handicap_4', 'Age', 'AwaitingTime']]\n",
    "\n",
    "y = df[\"No-show\"]"
   ]
  },
  {
   "cell_type": "code",
   "execution_count": 9,
   "metadata": {
    "scrolled": true
   },
   "outputs": [
    {
     "data": {
      "text/html": [
       "<div>\n",
       "<style scoped>\n",
       "    .dataframe tbody tr th:only-of-type {\n",
       "        vertical-align: middle;\n",
       "    }\n",
       "\n",
       "    .dataframe tbody tr th {\n",
       "        vertical-align: top;\n",
       "    }\n",
       "\n",
       "    .dataframe thead th {\n",
       "        text-align: right;\n",
       "    }\n",
       "</style>\n",
       "<table border=\"1\" class=\"dataframe\">\n",
       "  <thead>\n",
       "    <tr style=\"text-align: right;\">\n",
       "      <th></th>\n",
       "      <th>Gender</th>\n",
       "      <th>Diabetes</th>\n",
       "      <th>Hipertension</th>\n",
       "      <th>Scholarship</th>\n",
       "      <th>SMS_received</th>\n",
       "      <th>Handicap_0</th>\n",
       "      <th>Handicap_1</th>\n",
       "      <th>Handicap_2</th>\n",
       "      <th>Handicap_3</th>\n",
       "      <th>Handicap_4</th>\n",
       "      <th>Age</th>\n",
       "      <th>AwaitingTime</th>\n",
       "    </tr>\n",
       "  </thead>\n",
       "  <tbody>\n",
       "    <tr>\n",
       "      <th>0</th>\n",
       "      <td>1</td>\n",
       "      <td>0</td>\n",
       "      <td>1</td>\n",
       "      <td>0</td>\n",
       "      <td>0</td>\n",
       "      <td>1</td>\n",
       "      <td>0</td>\n",
       "      <td>0</td>\n",
       "      <td>0</td>\n",
       "      <td>0</td>\n",
       "      <td>62</td>\n",
       "      <td>0.776481</td>\n",
       "    </tr>\n",
       "    <tr>\n",
       "      <th>1</th>\n",
       "      <td>0</td>\n",
       "      <td>0</td>\n",
       "      <td>0</td>\n",
       "      <td>0</td>\n",
       "      <td>0</td>\n",
       "      <td>1</td>\n",
       "      <td>0</td>\n",
       "      <td>0</td>\n",
       "      <td>0</td>\n",
       "      <td>0</td>\n",
       "      <td>56</td>\n",
       "      <td>0.672535</td>\n",
       "    </tr>\n",
       "    <tr>\n",
       "      <th>2</th>\n",
       "      <td>1</td>\n",
       "      <td>0</td>\n",
       "      <td>0</td>\n",
       "      <td>0</td>\n",
       "      <td>0</td>\n",
       "      <td>1</td>\n",
       "      <td>0</td>\n",
       "      <td>0</td>\n",
       "      <td>0</td>\n",
       "      <td>0</td>\n",
       "      <td>62</td>\n",
       "      <td>0.679907</td>\n",
       "    </tr>\n",
       "    <tr>\n",
       "      <th>3</th>\n",
       "      <td>1</td>\n",
       "      <td>0</td>\n",
       "      <td>0</td>\n",
       "      <td>0</td>\n",
       "      <td>0</td>\n",
       "      <td>1</td>\n",
       "      <td>0</td>\n",
       "      <td>0</td>\n",
       "      <td>0</td>\n",
       "      <td>0</td>\n",
       "      <td>8</td>\n",
       "      <td>0.728831</td>\n",
       "    </tr>\n",
       "    <tr>\n",
       "      <th>4</th>\n",
       "      <td>1</td>\n",
       "      <td>1</td>\n",
       "      <td>1</td>\n",
       "      <td>0</td>\n",
       "      <td>0</td>\n",
       "      <td>1</td>\n",
       "      <td>0</td>\n",
       "      <td>0</td>\n",
       "      <td>0</td>\n",
       "      <td>0</td>\n",
       "      <td>56</td>\n",
       "      <td>0.671794</td>\n",
       "    </tr>\n",
       "  </tbody>\n",
       "</table>\n",
       "</div>"
      ],
      "text/plain": [
       "   Gender  Diabetes  Hipertension  Scholarship  SMS_received  Handicap_0  \\\n",
       "0       1         0             1            0             0           1   \n",
       "1       0         0             0            0             0           1   \n",
       "2       1         0             0            0             0           1   \n",
       "3       1         0             0            0             0           1   \n",
       "4       1         1             1            0             0           1   \n",
       "\n",
       "   Handicap_1  Handicap_2  Handicap_3  Handicap_4  Age  AwaitingTime  \n",
       "0           0           0           0           0   62      0.776481  \n",
       "1           0           0           0           0   56      0.672535  \n",
       "2           0           0           0           0   62      0.679907  \n",
       "3           0           0           0           0    8      0.728831  \n",
       "4           0           0           0           0   56      0.671794  "
      ]
     },
     "execution_count": 9,
     "metadata": {},
     "output_type": "execute_result"
    }
   ],
   "source": [
    "X.head()"
   ]
  },
  {
   "cell_type": "code",
   "execution_count": 11,
   "metadata": {},
   "outputs": [
    {
     "name": "stdout",
     "output_type": "stream",
     "text": [
      "_________________________________________________________________\n",
      "Layer (type)                 Output Shape              Param #   \n",
      "=================================================================\n",
      "dense_5 (Dense)              (None, 12)                156       \n",
      "_________________________________________________________________\n",
      "dense_6 (Dense)              (None, 12)                156       \n",
      "_________________________________________________________________\n",
      "dense_7 (Dense)              (None, 12)                156       \n",
      "_________________________________________________________________\n",
      "dense_8 (Dense)              (None, 1)                 13        \n",
      "=================================================================\n",
      "Total params: 481\n",
      "Trainable params: 481\n",
      "Non-trainable params: 0\n",
      "_________________________________________________________________\n",
      "Train on 77368 samples, validate on 33159 samples\n",
      "Epoch 1/9\n",
      "77368/77368 [==============================] - 6s 77us/step - loss: 0.1637 - acc: 0.7930 - val_loss: 0.1481 - val_acc: 0.8098\n",
      "Epoch 2/9\n",
      "77368/77368 [==============================] - 4s 57us/step - loss: 0.1548 - acc: 0.7930 - val_loss: 0.1437 - val_acc: 0.8098\n",
      "Epoch 3/9\n",
      "77368/77368 [==============================] - 4s 56us/step - loss: 0.1519 - acc: 0.7930 - val_loss: 0.1423 - val_acc: 0.8098\n",
      "Epoch 4/9\n",
      "77368/77368 [==============================] - 4s 56us/step - loss: 0.1511 - acc: 0.7930 - val_loss: 0.1422 - val_acc: 0.8098\n",
      "Epoch 5/9\n",
      "77368/77368 [==============================] - 4s 57us/step - loss: 0.1508 - acc: 0.7930 - val_loss: 0.1417 - val_acc: 0.8098\n",
      "Epoch 6/9\n",
      "77368/77368 [==============================] - 5s 68us/step - loss: 0.1506 - acc: 0.7930 - val_loss: 0.1423 - val_acc: 0.8098\n",
      "Epoch 7/9\n",
      "77368/77368 [==============================] - 5s 69us/step - loss: 0.1504 - acc: 0.7930 - val_loss: 0.1411 - val_acc: 0.8098\n",
      "Epoch 8/9\n",
      "77368/77368 [==============================] - 5s 69us/step - loss: 0.1502 - acc: 0.7930 - val_loss: 0.1410 - val_acc: 0.8098\n",
      "Epoch 9/9\n",
      "77368/77368 [==============================] - 5s 69us/step - loss: 0.1499 - acc: 0.7930 - val_loss: 0.1406 - val_acc: 0.8098\n"
     ]
    },
    {
     "data": {
      "text/plain": [
       "<keras.callbacks.History at 0x7fdbc1d69f60>"
      ]
     },
     "execution_count": 11,
     "metadata": {},
     "output_type": "execute_result"
    }
   ],
   "source": [
    "# 1\n",
    "import numpy as np\n",
    "seed = 7\n",
    "np.random.seed(seed)\n",
    "\n",
    "# 2\n",
    "from keras.models import Sequential\n",
    "from keras.layers import Dense\n",
    "model = Sequential()\n",
    "model.add(Dense(12, input_shape=(12,), kernel_initializer='uniform', activation='sigmoid'))\n",
    "model.add(Dense(12, kernel_initializer='uniform', activation='sigmoid'))\n",
    "model.add(Dense(12, kernel_initializer='uniform', activation='sigmoid'))\n",
    "model.add(Dense(1, kernel_initializer='uniform', activation='sigmoid'))\n",
    "model.summary()\n",
    "\n",
    "# 3\n",
    "import keras\n",
    "tbCallBack = keras.callbacks.TensorBoard(log_dir='/tmp/keras_logs', write_graph=True)\n",
    "\n",
    "# 4\n",
    "model.compile(loss='mean_squared_error', optimizer='adam', metrics=['accuracy'])\n",
    "model.fit(X.values, y.values, epochs=9, batch_size=50,  verbose=1, validation_split=0.3, callbacks=[tbCallBack])"
   ]
  }
 ],
 "metadata": {
  "kernelspec": {
   "display_name": "Python 3",
   "language": "python",
   "name": "python3"
  },
  "language_info": {
   "codemirror_mode": {
    "name": "ipython",
    "version": 3
   },
   "file_extension": ".py",
   "mimetype": "text/x-python",
   "name": "python",
   "nbconvert_exporter": "python",
   "pygments_lexer": "ipython3",
   "version": "3.6.5"
  }
 },
 "nbformat": 4,
 "nbformat_minor": 2
}
