{
 "cells": [
  {
   "cell_type": "code",
   "execution_count": 1,
   "metadata": {
    "colab": {
     "base_uri": "https://localhost:8080/",
     "height": 239
    },
    "colab_type": "code",
    "id": "Qw4jKzvIaFC9",
    "outputId": "6f6a33be-800e-49b1-f935-41c55c250ca2"
   },
   "outputs": [
    {
     "name": "stdout",
     "output_type": "stream",
     "text": [
      "Collecting cltk\n",
      "\u001b[?25l  Downloading https://files.pythonhosted.org/packages/a0/78/a7fcff5e0d27d156f271f076d52ce4f7a69dc60fe8eae75a1fe0d2568a69/cltk-0.1.99.tar.gz (567kB)\n",
      "\u001b[K    100% |████████████████████████████████| 573kB 234kB/s ta 0:00:01\n",
      "\u001b[?25hCollecting gitpython (from cltk)\n",
      "\u001b[?25l  Downloading https://files.pythonhosted.org/packages/fe/e5/fafe827507644c32d6dc553a1c435cdf882e0c28918a5bab29f7fbebfb70/GitPython-2.1.11-py2.py3-none-any.whl (448kB)\n",
      "\u001b[K    100% |████████████████████████████████| 450kB 273kB/s ta 0:00:01\n",
      "\u001b[?25hRequirement already satisfied: nltk in /home/bksahu/anaconda3/lib/python3.6/site-packages (from cltk) (3.3)\n",
      "Collecting python-crfsuite (from cltk)\n",
      "\u001b[?25l  Downloading https://files.pythonhosted.org/packages/2f/86/cfcd71edca9d25d3d331209a20f6314b6f3f134c29478f90559cee9ce091/python_crfsuite-0.9.6-cp36-cp36m-manylinux1_x86_64.whl (754kB)\n",
      "\u001b[K    100% |████████████████████████████████| 757kB 421kB/s ta 0:00:01\n",
      "\u001b[?25hCollecting pyuca (from cltk)\n",
      "\u001b[?25l  Downloading https://files.pythonhosted.org/packages/98/88/aeeee34d88f841aca712a8c18fbd62a33eaad8f2dbe535e87f3c829b02f9/pyuca-1.2-py2.py3-none-any.whl (1.5MB)\n",
      "\u001b[K    100% |████████████████████████████████| 1.5MB 170kB/s ta 0:00:011\n",
      "\u001b[?25hRequirement already satisfied: pyyaml in /home/bksahu/anaconda3/lib/python3.6/site-packages (from cltk) (3.12)\n",
      "Collecting regex (from cltk)\n",
      "\u001b[?25l  Downloading https://files.pythonhosted.org/packages/2a/0a/944977367c8a6cfcfa6fcb8ac6b1f0f9a667c1f34194091c766b5d7c44d7/regex-2018.08.29.tar.gz (643kB)\n",
      "\u001b[K    100% |████████████████████████████████| 645kB 226kB/s ta 0:00:01\n",
      "\u001b[?25hCollecting whoosh (from cltk)\n",
      "\u001b[?25l  Downloading https://files.pythonhosted.org/packages/ba/19/24d0f1f454a2c1eb689ca28d2f178db81e5024f42d82729a4ff6771155cf/Whoosh-2.7.4-py2.py3-none-any.whl (468kB)\n",
      "\u001b[K    100% |████████████████████████████████| 471kB 229kB/s ta 0:00:01\n",
      "\u001b[?25hCollecting gitdb2>=2.0.0 (from gitpython->cltk)\n",
      "\u001b[?25l  Downloading https://files.pythonhosted.org/packages/a9/fb/d3afc4e2a8d506a07af19f125f7a473ae1b56f942ed2ba80776eb8ae23b1/gitdb2-2.0.4-py2.py3-none-any.whl (62kB)\n",
      "\u001b[K    100% |████████████████████████████████| 71kB 358kB/s ta 0:00:01\n",
      "\u001b[?25hRequirement already satisfied: six in /home/bksahu/anaconda3/lib/python3.6/site-packages (from nltk->cltk) (1.11.0)\n",
      "Collecting smmap2>=2.0.0 (from gitdb2>=2.0.0->gitpython->cltk)\n",
      "  Downloading https://files.pythonhosted.org/packages/0f/14/e3112808b727f72df9531fc2f00b84d4966e66001748b6883a21c767e902/smmap2-2.0.4-py2.py3-none-any.whl\n",
      "Building wheels for collected packages: cltk, regex\n",
      "  Running setup.py bdist_wheel for cltk ... \u001b[?25ldone\n",
      "\u001b[?25h  Stored in directory: /home/bksahu/.cache/pip/wheels/38/67/46/9d204a7cddf1393ee31db6f54eea774fe51c435baa7ebead5f\n",
      "  Running setup.py bdist_wheel for regex ... \u001b[?25ldone\n",
      "\u001b[?25h  Stored in directory: /home/bksahu/.cache/pip/wheels/a4/8e/5e/cb6fef2a27a1a25f66505ccd87497fbebdd87222ae1168d970\n",
      "Successfully built cltk regex\n",
      "Installing collected packages: smmap2, gitdb2, gitpython, python-crfsuite, pyuca, regex, whoosh, cltk\n",
      "Successfully installed cltk-0.1.99 gitdb2-2.0.4 gitpython-2.1.11 python-crfsuite-0.9.6 pyuca-1.2 regex-2018.8.29 smmap2-2.0.4 whoosh-2.7.4\n"
     ]
    }
   ],
   "source": [
    "!pip install cltk"
   ]
  },
  {
   "cell_type": "markdown",
   "metadata": {
    "colab_type": "text",
    "id": "nTIg95K9adsv"
   },
   "source": [
    "# See what corpora are available\n",
    "\n",
    "First we need to \"import\" the right part of the CLTK library."
   ]
  },
  {
   "cell_type": "code",
   "execution_count": 2,
   "metadata": {
    "colab": {},
    "colab_type": "code",
    "id": "jMvu-BiGaP9A"
   },
   "outputs": [],
   "source": [
    "# This is the import of the right part of the CLTK library\n",
    "\n",
    "from cltk.corpus.utils.importer import CorpusImporter"
   ]
  },
  {
   "cell_type": "code",
   "execution_count": 3,
   "metadata": {
    "colab": {},
    "colab_type": "code",
    "id": "gC1tCJW-a50f"
   },
   "outputs": [],
   "source": [
    "my_latin_downloader = CorpusImporter('latin')"
   ]
  },
  {
   "cell_type": "code",
   "execution_count": 4,
   "metadata": {
    "colab": {
     "base_uri": "https://localhost:8080/",
     "height": 293
    },
    "colab_type": "code",
    "id": "voBHsyINbIgf",
    "outputId": "402b8d30-9871-4b8e-c029-3a2d0f9769d2"
   },
   "outputs": [
    {
     "data": {
      "text/plain": [
       "['latin_text_perseus',\n",
       " 'latin_treebank_perseus',\n",
       " 'latin_text_latin_library',\n",
       " 'phi5',\n",
       " 'phi7',\n",
       " 'latin_proper_names_cltk',\n",
       " 'latin_models_cltk',\n",
       " 'latin_pos_lemmata_cltk',\n",
       " 'latin_treebank_index_thomisticus',\n",
       " 'latin_lexica_perseus',\n",
       " 'latin_training_set_sentence_cltk',\n",
       " 'latin_word2vec_cltk',\n",
       " 'latin_text_antique_digiliblt',\n",
       " 'latin_text_corpus_grammaticorum_latinorum',\n",
       " 'latin_text_poeti_ditalia']"
      ]
     },
     "execution_count": 4,
     "metadata": {},
     "output_type": "execute_result"
    }
   ],
   "source": [
    "my_latin_downloader.list_corpora"
   ]
  },
  {
   "cell_type": "code",
   "execution_count": null,
   "metadata": {
    "colab": {},
    "colab_type": "code",
    "id": "r403bdy1bWt-"
   },
   "outputs": [],
   "source": [
    "# import several corpora\n",
    "\n",
    "my_latin_downloader.import_corpus('latin_text_latin_library')\n",
    "my_latin_downloader.import_corpus('latin_models_cltk')"
   ]
  },
  {
   "cell_type": "code",
   "execution_count": null,
   "metadata": {
    "colab": {
     "base_uri": "https://localhost:8080/",
     "height": 237
    },
    "colab_type": "code",
    "id": "ACb8FlNYbflP",
    "outputId": "7118df5f-325a-42e2-f14f-f2867fc8ad09"
   },
   "outputs": [],
   "source": [
    "# Let's get some Greek corpora, too\n",
    "\n",
    "my_greek_downloader = CorpusImporter('greek')\n",
    "my_greek_downloader.import_corpus('greek_models_cltk')\n",
    "my_greek_downloader.list_corpora\n",
    "\n"
   ]
  },
  {
   "cell_type": "code",
   "execution_count": null,
   "metadata": {
    "colab": {},
    "colab_type": "code",
    "id": "Rf-R2pZkbkkg"
   },
   "outputs": [],
   "source": [
    "my_greek_downloader.import_corpus('greek_text_lacus_curtius')"
   ]
  },
  {
   "cell_type": "code",
   "execution_count": null,
   "metadata": {
    "colab": {},
    "colab_type": "code",
    "id": "nmG2XbFGb26Y"
   },
   "outputs": [],
   "source": [
    "my_greek_downloader.import_corpus('greek_text_first1kgreek')"
   ]
  },
  {
   "cell_type": "code",
   "execution_count": null,
   "metadata": {
    "colab": {
     "base_uri": "https://localhost:8080/",
     "height": 331
    },
    "colab_type": "code",
    "id": "9FPcQ01ab6xn",
    "outputId": "e71dac83-9e28-4e06-a358-a8adde8c95e2"
   },
   "outputs": [],
   "source": [
    "!ls -l ~/cltk_data/greek/text/greek_text_first1kgreek/"
   ]
  },
  {
   "cell_type": "markdown",
   "metadata": {
    "colab_type": "text",
    "id": "1or_G2i4lHpk"
   },
   "source": [
    "# Convert TEI XML texts\n",
    "\n",
    "Here we'll convert the First 1k Years' Greek corpus from TEI XML to plain text."
   ]
  },
  {
   "cell_type": "code",
   "execution_count": null,
   "metadata": {
    "colab": {},
    "colab_type": "code",
    "id": "wQA7gvWMlUIQ"
   },
   "outputs": [],
   "source": [
    "from cltk.corpus.greek.tei import onekgreek_tei_xml_to_text"
   ]
  },
  {
   "cell_type": "code",
   "execution_count": null,
   "metadata": {
    "colab": {},
    "colab_type": "code",
    "id": "Oc9ZZAYslWUw"
   },
   "outputs": [],
   "source": [
    "onekgreek_tei_xml_to_text()"
   ]
  }
 ],
 "metadata": {
  "accelerator": "GPU",
  "colab": {
   "name": "NLP Using CLTK.ipynb",
   "provenance": [],
   "version": "0.3.2"
  },
  "kernelspec": {
   "display_name": "Python 3",
   "language": "python",
   "name": "python3"
  },
  "language_info": {
   "codemirror_mode": {
    "name": "ipython",
    "version": 3
   },
   "file_extension": ".py",
   "mimetype": "text/x-python",
   "name": "python",
   "nbconvert_exporter": "python",
   "pygments_lexer": "ipython3",
   "version": "3.6.5"
  }
 },
 "nbformat": 4,
 "nbformat_minor": 1
}
