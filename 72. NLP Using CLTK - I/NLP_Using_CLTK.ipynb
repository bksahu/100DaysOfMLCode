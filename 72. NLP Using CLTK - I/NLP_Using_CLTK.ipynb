{
  "nbformat": 4,
  "nbformat_minor": 0,
  "metadata": {
    "colab": {
      "name": "NLP Using CLTK.ipynb",
      "version": "0.3.2",
      "provenance": []
    },
    "kernelspec": {
      "name": "python3",
      "display_name": "Python 3"
    },
    "accelerator": "GPU"
  },
  "cells": [
    {
      "metadata": {
        "id": "Qw4jKzvIaFC9",
        "colab_type": "code",
        "colab": {
          "base_uri": "https://localhost:8080/",
          "height": 239
        },
        "outputId": "6f6a33be-800e-49b1-f935-41c55c250ca2"
      },
      "cell_type": "code",
      "source": [
        "!pip install cltk"
      ],
      "execution_count": 1,
      "outputs": [
        {
          "output_type": "stream",
          "text": [
            "Requirement already satisfied: cltk in /usr/local/lib/python3.6/dist-packages (0.1.98)\n",
            "Requirement already satisfied: python-crfsuite in /usr/local/lib/python3.6/dist-packages (from cltk) (0.9.6)\n",
            "Requirement already satisfied: nltk in /usr/local/lib/python3.6/dist-packages (from cltk) (3.2.5)\n",
            "Requirement already satisfied: whoosh in /usr/local/lib/python3.6/dist-packages (from cltk) (2.7.4)\n",
            "Requirement already satisfied: pyuca in /usr/local/lib/python3.6/dist-packages (from cltk) (1.2)\n",
            "Requirement already satisfied: gitpython in /usr/local/lib/python3.6/dist-packages (from cltk) (2.1.11)\n",
            "Requirement already satisfied: regex in /usr/local/lib/python3.6/dist-packages (from cltk) (2017.4.5)\n",
            "Requirement already satisfied: pyyaml in /usr/local/lib/python3.6/dist-packages (from cltk) (3.13)\n",
            "Requirement already satisfied: six in /usr/local/lib/python3.6/dist-packages (from nltk->cltk) (1.11.0)\n",
            "Requirement already satisfied: gitdb2>=2.0.0 in /usr/local/lib/python3.6/dist-packages (from gitpython->cltk) (2.0.4)\n",
            "Requirement already satisfied: smmap2>=2.0.0 in /usr/local/lib/python3.6/dist-packages (from gitdb2>=2.0.0->gitpython->cltk) (2.0.4)\n"
          ],
          "name": "stdout"
        }
      ]
    },
    {
      "metadata": {
        "id": "nTIg95K9adsv",
        "colab_type": "text"
      },
      "cell_type": "markdown",
      "source": [
        "# See what corpora are available\n",
        "\n",
        "First we need to \"import\" the right part of the CLTK library."
      ]
    },
    {
      "metadata": {
        "id": "jMvu-BiGaP9A",
        "colab_type": "code",
        "colab": {}
      },
      "cell_type": "code",
      "source": [
        "# This is the import of the right part of the CLTK library\n",
        "\n",
        "from cltk.corpus.utils.importer import CorpusImporter"
      ],
      "execution_count": 0,
      "outputs": []
    },
    {
      "metadata": {
        "id": "gC1tCJW-a50f",
        "colab_type": "code",
        "colab": {}
      },
      "cell_type": "code",
      "source": [
        "my_latin_downloader = CorpusImporter('latin')"
      ],
      "execution_count": 0,
      "outputs": []
    },
    {
      "metadata": {
        "id": "voBHsyINbIgf",
        "colab_type": "code",
        "colab": {
          "base_uri": "https://localhost:8080/",
          "height": 293
        },
        "outputId": "402b8d30-9871-4b8e-c029-3a2d0f9769d2"
      },
      "cell_type": "code",
      "source": [
        "my_latin_downloader.list_corpora"
      ],
      "execution_count": 4,
      "outputs": [
        {
          "output_type": "execute_result",
          "data": {
            "text/plain": [
              "['latin_text_perseus',\n",
              " 'latin_treebank_perseus',\n",
              " 'latin_text_latin_library',\n",
              " 'phi5',\n",
              " 'phi7',\n",
              " 'latin_proper_names_cltk',\n",
              " 'latin_models_cltk',\n",
              " 'latin_pos_lemmata_cltk',\n",
              " 'latin_treebank_index_thomisticus',\n",
              " 'latin_lexica_perseus',\n",
              " 'latin_training_set_sentence_cltk',\n",
              " 'latin_word2vec_cltk',\n",
              " 'latin_text_antique_digiliblt',\n",
              " 'latin_text_corpus_grammaticorum_latinorum',\n",
              " 'latin_text_poeti_ditalia']"
            ]
          },
          "metadata": {
            "tags": []
          },
          "execution_count": 4
        }
      ]
    },
    {
      "metadata": {
        "id": "r403bdy1bWt-",
        "colab_type": "code",
        "colab": {}
      },
      "cell_type": "code",
      "source": [
        "# import several corpora\n",
        "\n",
        "my_latin_downloader.import_corpus('latin_text_latin_library')\n",
        "my_latin_downloader.import_corpus('latin_models_cltk')"
      ],
      "execution_count": 0,
      "outputs": []
    },
    {
      "metadata": {
        "id": "ACb8FlNYbflP",
        "colab_type": "code",
        "colab": {
          "base_uri": "https://localhost:8080/",
          "height": 237
        },
        "outputId": "7118df5f-325a-42e2-f14f-f2867fc8ad09"
      },
      "cell_type": "code",
      "source": [
        "# Let's get some Greek corpora, too\n",
        "\n",
        "my_greek_downloader = CorpusImporter('greek')\n",
        "my_greek_downloader.import_corpus('greek_models_cltk')\n",
        "my_greek_downloader.list_corpora\n",
        "\n"
      ],
      "execution_count": 6,
      "outputs": [
        {
          "output_type": "execute_result",
          "data": {
            "text/plain": [
              "['greek_software_tlgu',\n",
              " 'greek_text_perseus',\n",
              " 'phi7',\n",
              " 'tlg',\n",
              " 'greek_proper_names_cltk',\n",
              " 'greek_models_cltk',\n",
              " 'greek_treebank_perseus',\n",
              " 'greek_lexica_perseus',\n",
              " 'greek_training_set_sentence_cltk',\n",
              " 'greek_word2vec_cltk',\n",
              " 'greek_text_lacus_curtius',\n",
              " 'greek_text_first1kgreek']"
            ]
          },
          "metadata": {
            "tags": []
          },
          "execution_count": 6
        }
      ]
    },
    {
      "metadata": {
        "id": "Rf-R2pZkbkkg",
        "colab_type": "code",
        "colab": {}
      },
      "cell_type": "code",
      "source": [
        "my_greek_downloader.import_corpus('greek_text_lacus_curtius')"
      ],
      "execution_count": 0,
      "outputs": []
    },
    {
      "metadata": {
        "id": "nmG2XbFGb26Y",
        "colab_type": "code",
        "colab": {}
      },
      "cell_type": "code",
      "source": [
        "my_greek_downloader.import_corpus('greek_text_first1kgreek')"
      ],
      "execution_count": 0,
      "outputs": []
    },
    {
      "metadata": {
        "id": "9FPcQ01ab6xn",
        "colab_type": "code",
        "colab": {
          "base_uri": "https://localhost:8080/",
          "height": 331
        },
        "outputId": "e71dac83-9e28-4e06-a358-a8adde8c95e2"
      },
      "cell_type": "code",
      "source": [
        "!ls -l ~/cltk_data/greek/text/greek_text_first1kgreek/"
      ],
      "execution_count": 9,
      "outputs": [
        {
          "output_type": "stream",
          "text": [
            "total 2176\n",
            "-rw-r--r--   1 root root  126919 Sep 17 12:10 Committing Issues using GitHub.docx\n",
            "-rwxr-xr-x   1 root root    1889 Sep 17 12:10 cselstats.pl\n",
            "drwxr-xr-x 118 root root    4096 Sep 17 12:10 data\n",
            "-rwxr-xr-x   1 root root 1955024 Sep 17 12:10 #gelasius-kg.xml#\n",
            "-rwxr-xr-x   1 root root    2414 Sep 17 12:10 greek-justwork.txt\n",
            "-rwxr-xr-x   1 root root    3249 Sep 17 12:10 greek.txt\n",
            "-rwxr-xr-x   1 root root   19777 Sep 17 12:10 Greek-works.txt\n",
            "-rw-r--r--   1 root root   19125 Sep 17 12:10 license.md\n",
            "-rw-r--r--   1 root root   58346 Sep 17 12:10 new_edition_metadata.csv\n",
            "-rw-r--r--   1 root root     697 Sep 17 12:10 pages.sh\n",
            "-rwxr-xr-x   1 root root    1901 Sep 17 12:10 pnumber.xsl\n",
            "-rw-r--r--   1 root root    1658 Sep 17 12:10 README.md\n",
            "drwxr-xr-x   2 root root    4096 Sep 17 12:10 save\n",
            "drwxr-xr-x  48 root root    4096 Sep 17 12:10 split\n",
            "drwxr-xr-x   2 root root    4096 Sep 17 12:10 volume_xml\n"
          ],
          "name": "stdout"
        }
      ]
    },
    {
      "metadata": {
        "id": "1or_G2i4lHpk",
        "colab_type": "text"
      },
      "cell_type": "markdown",
      "source": [
        "# Convert TEI XML texts\n",
        "\n",
        "Here we'll convert the First 1k Years' Greek corpus from TEI XML to plain text."
      ]
    },
    {
      "metadata": {
        "id": "wQA7gvWMlUIQ",
        "colab_type": "code",
        "colab": {}
      },
      "cell_type": "code",
      "source": [
        "from cltk.corpus.greek.tei import onekgreek_tei_xml_to_text"
      ],
      "execution_count": 0,
      "outputs": []
    },
    {
      "metadata": {
        "id": "Oc9ZZAYslWUw",
        "colab_type": "code",
        "colab": {}
      },
      "cell_type": "code",
      "source": [
        "onekgreek_tei_xml_to_text()"
      ],
      "execution_count": 0,
      "outputs": []
    }
  ]
}
