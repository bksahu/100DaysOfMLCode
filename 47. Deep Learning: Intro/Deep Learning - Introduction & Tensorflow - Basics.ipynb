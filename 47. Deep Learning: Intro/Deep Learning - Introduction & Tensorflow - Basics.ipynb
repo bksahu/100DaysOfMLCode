{
 "cells": [
  {
   "cell_type": "markdown",
   "metadata": {},
   "source": [
    "# What is deep learning ?\n",
    "\n",
    "Artificial intelligence > Machine learning > Deep learning\n"
   ]
  },
  {
   "cell_type": "markdown",
   "metadata": {},
   "source": [
    "### Neural Network\n",
    "\n",
    "* Machine Learning is about mapping inputs (or features) to targets (or labels), which is done by observing many examples of input and target.\n",
    "* In neural networks the above is done via a deep sequence of simple data transformations (layer) which are learned by exposer to examples.\n",
    "* The specification of what a layer does to inpute data is stored in it's _weight_, which in essence are a bunch of numbers.\n",
    "* \"_Transformation implemented by a layer is parameterized by it's weight_\"\n",
    "* In this context learning means finding a set of values for the weights of all layers in a network.\n",
    "* A loss function is defined that basically tells us the deviation of the result form the true result.\n",
    "* This loss function can be used to calculate a Loss Score which using a Optimizer can be used as a to update the weight for the layers to perform better."
   ]
  },
  {
   "cell_type": "markdown",
   "metadata": {},
   "source": [
    "## Tensorflow Baiscs\n",
    "\n",
    "TensorFlow follows a lazy approach. The usual workflow of running a program in TensorFlow is as follows:\n",
    "* **Build a computational graph**, this can be any mathematical operation TensorFlow supports.\n",
    "* **Initializa variable**, to compile the variables defined previously\n",
    "* **Create session**, this is where the magic starts!\n",
    "* **Close session**, shutdown the session"
   ]
  },
  {
   "cell_type": "markdown",
   "metadata": {},
   "source": [
    "## Few terminologies used in TensorFlow:\n",
    "\n",
    "* `placeholder`: A way to feed data into the graphs\n",
    "* `feed_dict`: A dictionary to pass numeric values to computational graph\n",
    "\n",
    "## Examples:"
   ]
  },
  {
   "cell_type": "code",
   "execution_count": 11,
   "metadata": {},
   "outputs": [
    {
     "name": "stdout",
     "output_type": "stream",
     "text": [
      "Addition: 5\n"
     ]
    }
   ],
   "source": [
    "## Add two numbers using tensorflow\n",
    "\n",
    "# remove warnings\n",
    "import warnings \n",
    "with warnings.catch_warnings():\n",
    "    warnings.filterwarnings(\"ignore\",category=FutureWarning)\n",
    "\n",
    "# import tensorflow\n",
    "import tensorflow as tf\n",
    "\n",
    "# build computational graph\n",
    "a = tf.placeholder(tf.int16)\n",
    "b = tf.placeholder(tf.int16)\n",
    "\n",
    "addition = tf.add(a, b)\n",
    "\n",
    "# initialize variables \n",
    "init = tf.global_variables_initializer()\n",
    "\n",
    "# create session and run the graph\n",
    "with tf.Session() as sess:\n",
    "    sess.run(init)\n",
    "    print(\"Addition: %i\" % sess.run(addition, feed_dict={a: 2, b: 3}))\n",
    "    \n",
    "# close session\n",
    "sess.close()"
   ]
  }
 ],
 "metadata": {
  "kernelspec": {
   "display_name": "Python 3",
   "language": "python",
   "name": "python3"
  },
  "language_info": {
   "codemirror_mode": {
    "name": "ipython",
    "version": 3
   },
   "file_extension": ".py",
   "mimetype": "text/x-python",
   "name": "python",
   "nbconvert_exporter": "python",
   "pygments_lexer": "ipython3",
   "version": "3.6.5"
  }
 },
 "nbformat": 4,
 "nbformat_minor": 2
}
