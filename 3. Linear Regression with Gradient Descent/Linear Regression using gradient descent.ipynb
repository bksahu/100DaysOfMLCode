{
 "cells": [
  {
   "cell_type": "markdown",
   "metadata": {},
   "source": [
    "# Linear Regression using gradient descent\n",
    "\n",
    "Following is a python implementation of gradient descent.\n",
    "\n",
    "It is based on the “Auto Insurance in Sweden” dataset which has two columns which are the total payment for all the claims in thousands of Swedish Kronor (Y) given the total number of claims (X)"
   ]
  },
  {
   "cell_type": "markdown",
   "metadata": {},
   "source": [
    "## Introduction\n",
    "\n",
    "In the last two days we have implemented the Mean Squared Method to minimize the cost function. Today we will use a very common machine learning algorithm to minimize this cost function named Gradient Descent.\n",
    "\n",
    "Gradient descent is a optimazation method to find minimum of a function using iteration. We know that the equation of LR is ${y = m*x + b}$ . Our aim is to such a ${m}$ and ${b}$ for which the cost function also k/a MSE is minimized."
   ]
  },
  {
   "cell_type": "code",
   "execution_count": 1,
   "metadata": {},
   "outputs": [],
   "source": [
    "def gradient_descent(X, y, m_current=0, b_current=0, epochs=1000, learning_rate=0.0001):\n",
    "     N = float(len(y))\n",
    "     costs = []\n",
    "     for i in range(epochs):\n",
    "          y_current = (m_current * X) + b_current\n",
    "          cost = sum([data**2 for data in (y-y_current)]) / N\n",
    "          costs.append(cost)\n",
    "          m_gradient = -(2/N) * sum(X * (y - y_current))\n",
    "          b_gradient = -(2/N) * sum(y - y_current)\n",
    "          m_current = m_current - (learning_rate * m_gradient)\n",
    "          b_current = b_current - (learning_rate * b_gradient)\n",
    "     return m_current, b_current, costs"
   ]
  },
  {
   "cell_type": "markdown",
   "metadata": {},
   "source": [
    "In the above code : <br> \n",
    "X -> Training set <br>\n",
    "y -> Testing set<br>\n",
    "m_current -> current coeffiect ${m}$ in the itteration<br>\n",
    "b_current -> current coeffiect ${b}$ in the itteration<br>\n",
    "epochs -> number of iteration<br>\n",
    "learning_rate -> speed of convergence which means how fast gradient descent finds the best paramters<br>\n",
    "cost -> total cost<br>\n",
    "\n",
    "The ${b}$ and ${m}$ is calculated using these formula\n",
    "<img src=\"https://spin.atomicobject.com/wp-content/uploads/linear_regression_gradient1.png\">"
   ]
  },
  {
   "cell_type": "code",
   "execution_count": 2,
   "metadata": {},
   "outputs": [
    {
     "data": {
      "text/html": [
       "<div>\n",
       "<style scoped>\n",
       "    .dataframe tbody tr th:only-of-type {\n",
       "        vertical-align: middle;\n",
       "    }\n",
       "\n",
       "    .dataframe tbody tr th {\n",
       "        vertical-align: top;\n",
       "    }\n",
       "\n",
       "    .dataframe thead th {\n",
       "        text-align: right;\n",
       "    }\n",
       "</style>\n",
       "<table border=\"1\" class=\"dataframe\">\n",
       "  <thead>\n",
       "    <tr style=\"text-align: right;\">\n",
       "      <th></th>\n",
       "      <th>X</th>\n",
       "      <th>Y</th>\n",
       "    </tr>\n",
       "  </thead>\n",
       "  <tbody>\n",
       "    <tr>\n",
       "      <th>0</th>\n",
       "      <td>108</td>\n",
       "      <td>392.5</td>\n",
       "    </tr>\n",
       "    <tr>\n",
       "      <th>1</th>\n",
       "      <td>19</td>\n",
       "      <td>46.2</td>\n",
       "    </tr>\n",
       "    <tr>\n",
       "      <th>2</th>\n",
       "      <td>13</td>\n",
       "      <td>15.7</td>\n",
       "    </tr>\n",
       "    <tr>\n",
       "      <th>3</th>\n",
       "      <td>124</td>\n",
       "      <td>422.2</td>\n",
       "    </tr>\n",
       "    <tr>\n",
       "      <th>4</th>\n",
       "      <td>40</td>\n",
       "      <td>119.4</td>\n",
       "    </tr>\n",
       "  </tbody>\n",
       "</table>\n",
       "</div>"
      ],
      "text/plain": [
       "     X      Y\n",
       "0  108  392.5\n",
       "1   19   46.2\n",
       "2   13   15.7\n",
       "3  124  422.2\n",
       "4   40  119.4"
      ]
     },
     "execution_count": 2,
     "metadata": {},
     "output_type": "execute_result"
    }
   ],
   "source": [
    "## Gradient descent on our dataset\n",
    "import pandas as pd\n",
    "\n",
    "# Load dataset\n",
    "df = pd.read_csv('Insurance.csv')\n",
    "df.head()"
   ]
  },
  {
   "cell_type": "code",
   "execution_count": 3,
   "metadata": {},
   "outputs": [
    {
     "name": "stdout",
     "output_type": "stream",
     "text": [
      "m:  3.802421618624299\n",
      "b:  1.9974788477880756\n",
      "final cost:  1414.5568414486563\n"
     ]
    }
   ],
   "source": [
    "# Calculate the parameters\n",
    "m_current, b_current, costs = gradient_descent(df['X'], df['Y'])\n",
    "print('m: ', m_current)\n",
    "print('b: ', b_current)\n",
    "print('final cost: ', costs[-1])"
   ]
  },
  {
   "cell_type": "code",
   "execution_count": 4,
   "metadata": {},
   "outputs": [
    {
     "data": {
      "image/png": "[encoded data removed]",
      "text/plain": [
       "<matplotlib.figure.Figure at 0x29df8398048>"
      ]
     },
     "metadata": {},
     "output_type": "display_data"
    }
   ],
   "source": [
    "%matplotlib inline\n",
    "# plot the costs \n",
    "import matplotlib.pyplot as plt\n",
    "plt.plot(costs[10:])\n",
    "plt.xlabel('no. of iteration (ignoring the first 10 iterations)')\n",
    "plt.ylabel('cost')\n",
    "plt.show()"
   ]
  },
  {
   "cell_type": "markdown",
   "metadata": {},
   "source": [
    "As you can see after first few iterations there our cost function converges to 1414.5568414486563. \n",
    "We implemented this idea in unifeature data. This idea can be extended into multiple feature ideas too which makes it very helpfull while using neural networks."
   ]
  },
  {
   "cell_type": "markdown",
   "metadata": {},
   "source": [
    "Ref:<br>\n",
    "[1] https://towardsdatascience.com/linear-regression-using-gradient-descent-in-10-lines-of-code-642f995339c0 <br>\n",
    "[2] http://college.cengage.com/mathematics/brase/understandable_statistics/7e/students/datasets/slr/frames/slr06.html"
   ]
  }
 ],
 "metadata": {
  "kernelspec": {
   "display_name": "Python 3",
   "language": "python",
   "name": "python3"
  },
  "language_info": {
   "codemirror_mode": {
    "name": "ipython",
    "version": 3
   },
   "file_extension": ".py",
   "mimetype": "text/x-python",
   "name": "python",
   "nbconvert_exporter": "python",
   "pygments_lexer": "ipython3",
   "version": "3.6.4"
  }
 },
 "nbformat": 4,
 "nbformat_minor": 2
}
