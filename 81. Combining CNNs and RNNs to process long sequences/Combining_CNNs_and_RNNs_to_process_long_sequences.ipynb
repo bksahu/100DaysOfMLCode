{
  "nbformat": 4,
  "nbformat_minor": 0,
  "metadata": {
    "colab": {
      "name": "Combining CNNs and RNNs to process long sequences.ipynb",
      "version": "0.3.2",
      "provenance": []
    },
    "kernelspec": {
      "name": "python3",
      "display_name": "Python 3"
    },
    "accelerator": "TPU"
  },
  "cells": [
    {
      "metadata": {
        "id": "1G3JCAuSYWhe",
        "colab_type": "code",
        "colab": {
          "base_uri": "https://localhost:8080/",
          "height": 86
        },
        "outputId": "112564f6-b3ba-4418-a6db-f0ae4ec92ae0"
      },
      "cell_type": "code",
      "source": [
        "!wget https://s3.amazonaws.com/keras-datasets/jena_climate_2009_2016.csv.zip && unzip jena_climate_2009_2016.csv.zip"
      ],
      "execution_count": 2,
      "outputs": [
        {
          "output_type": "stream",
          "text": [
            "\n",
            "Redirecting output to ‘wget-log’.\n",
            "Archive:  jena_climate_2009_2016.csv.zip\n",
            "  inflating: jena_climate_2009_2016.csv  \n"
          ],
          "name": "stdout"
        }
      ]
    },
    {
      "metadata": {
        "id": "xa-y0zmDZNQ6",
        "colab_type": "text"
      },
      "cell_type": "markdown",
      "source": [
        "# Combining CNNs and RNNs to process long sequences\n",
        "\n",
        "Because 1D convnets process input patches independently, they are not sensitive to the order of the timesteps (beyond a local scale, the size of the convolution windows), unlike RNNs. Of course, in order to be able to recognize longer-term patterns, one could stack many convolution layers and pooling layers, resulting in upper layers that would \"see\" long chunks of the original inputs -- but that's still a fairly weak way to induce order-sensitivity. One way to evidence this weakness is to try 1D convnets on the temperature forecasting problem from the previous section, where order-sensitivity was key to produce good predictions. Let's see:"
      ]
    },
    {
      "metadata": {
        "id": "zu1tcIrZYobM",
        "colab_type": "code",
        "colab": {}
      },
      "cell_type": "code",
      "source": [
        "import os\n",
        "import numpy as np\n",
        "\n",
        "data_dir = '.'\n",
        "fname = os.path.join(data_dir, 'jena_climate_2009_2016.csv')\n",
        "\n",
        "f = open(fname)\n",
        "data = f.read()\n",
        "f.close()\n",
        "\n",
        "lines = data.split('\\n')\n",
        "header = lines[0].split(',')\n",
        "lines = lines[1:]\n",
        "\n",
        "float_data = np.zeros((len(lines), len(header) - 1))\n",
        "for i, line in enumerate(lines):\n",
        "    values = [float(x) for x in line.split(',')[1:]]\n",
        "    float_data[i, :] = values\n",
        "    \n",
        "mean = float_data[:200000].mean(axis=0)\n",
        "float_data -= mean\n",
        "std = float_data[:200000].std(axis=0)\n",
        "float_data /= std\n",
        "\n",
        "def generator(data, lookback, delay, min_index, max_index,\n",
        "              shuffle=False, batch_size=128, step=6):\n",
        "    if max_index is None:\n",
        "        max_index = len(data) - delay - 1\n",
        "    i = min_index + lookback\n",
        "    while 1:\n",
        "        if shuffle:\n",
        "            rows = np.random.randint(\n",
        "                min_index + lookback, max_index, size=batch_size)\n",
        "        else:\n",
        "            if i + batch_size >= max_index:\n",
        "                i = min_index + lookback\n",
        "            rows = np.arange(i, min(i + batch_size, max_index))\n",
        "            i += len(rows)\n",
        "\n",
        "        samples = np.zeros((len(rows),\n",
        "                           lookback // step,\n",
        "                           data.shape[-1]))\n",
        "        targets = np.zeros((len(rows),))\n",
        "        for j, row in enumerate(rows):\n",
        "            indices = range(rows[j] - lookback, rows[j], step)\n",
        "            samples[j] = data[indices]\n",
        "            targets[j] = data[rows[j] + delay][1]\n",
        "        yield samples, targets\n",
        "        \n",
        "lookback = 1440\n",
        "step = 6\n",
        "delay = 144\n",
        "batch_size = 128\n",
        "\n",
        "train_gen = generator(float_data,\n",
        "                      lookback=lookback,\n",
        "                      delay=delay,\n",
        "                      min_index=0,\n",
        "                      max_index=200000,\n",
        "                      shuffle=True,\n",
        "                      step=step, \n",
        "                      batch_size=batch_size)\n",
        "val_gen = generator(float_data,\n",
        "                    lookback=lookback,\n",
        "                    delay=delay,\n",
        "                    min_index=200001,\n",
        "                    max_index=300000,\n",
        "                    step=step,\n",
        "                    batch_size=batch_size)\n",
        "test_gen = generator(float_data,\n",
        "                     lookback=lookback,\n",
        "                     delay=delay,\n",
        "                     min_index=300001,\n",
        "                     max_index=None,\n",
        "                     step=step,\n",
        "                     batch_size=batch_size)\n",
        "\n",
        "# This is how many steps to draw from `val_gen`\n",
        "# in order to see the whole validation set:\n",
        "val_steps = (300000 - 200001 - lookback) // batch_size\n",
        "\n",
        "# This is how many steps to draw from `test_gen`\n",
        "# in order to see the whole test set:\n",
        "test_steps = (len(float_data) - 300001 - lookback) // batch_size"
      ],
      "execution_count": 0,
      "outputs": []
    },
    {
      "metadata": {
        "id": "BFtkedA5ZF0j",
        "colab_type": "code",
        "colab": {
          "base_uri": "https://localhost:8080/",
          "height": 712
        },
        "outputId": "358238de-f035-4c13-bd57-3730a95e1533"
      },
      "cell_type": "code",
      "source": [
        "from keras.models import Sequential\n",
        "from keras import layers\n",
        "from keras.optimizers import RMSprop\n",
        "\n",
        "model = Sequential()\n",
        "model.add(layers.Conv1D(32, 5, activation='relu',\n",
        "                        input_shape=(None, float_data.shape[-1])))\n",
        "model.add(layers.MaxPooling1D(3))\n",
        "model.add(layers.Conv1D(32, 5, activation='relu'))\n",
        "model.add(layers.MaxPooling1D(3))\n",
        "model.add(layers.Conv1D(32, 5, activation='relu'))\n",
        "model.add(layers.GlobalMaxPooling1D())\n",
        "model.add(layers.Dense(1))\n",
        "\n",
        "model.compile(optimizer=RMSprop(), loss='mae')\n",
        "history = model.fit_generator(train_gen,\n",
        "                              steps_per_epoch=500,\n",
        "                              epochs=20,\n",
        "                              validation_data=val_gen,\n",
        "                              validation_steps=val_steps)"
      ],
      "execution_count": 5,
      "outputs": [
        {
          "output_type": "stream",
          "text": [
            "Epoch 1/20\n",
            "500/500 [==============================] - 52s 104ms/step - loss: 0.4125 - val_loss: 0.4462\n",
            "Epoch 2/20\n",
            "500/500 [==============================] - 51s 103ms/step - loss: 0.3603 - val_loss: 0.4905\n",
            "Epoch 3/20\n",
            "500/500 [==============================] - 50s 101ms/step - loss: 0.3370 - val_loss: 0.4576\n",
            "Epoch 4/20\n",
            "500/500 [==============================] - 51s 101ms/step - loss: 0.3201 - val_loss: 0.4467\n",
            "Epoch 5/20\n",
            "500/500 [==============================] - 51s 101ms/step - loss: 0.3079 - val_loss: 0.4550\n",
            "Epoch 6/20\n",
            "500/500 [==============================] - 51s 101ms/step - loss: 0.2993 - val_loss: 0.4606\n",
            "Epoch 7/20\n",
            "500/500 [==============================] - 51s 102ms/step - loss: 0.2907 - val_loss: 0.4951\n",
            "Epoch 8/20\n",
            "500/500 [==============================] - 51s 102ms/step - loss: 0.2842 - val_loss: 0.4572\n",
            "Epoch 9/20\n",
            "500/500 [==============================] - 51s 101ms/step - loss: 0.2767 - val_loss: 0.4868\n",
            "Epoch 10/20\n",
            "500/500 [==============================] - 51s 102ms/step - loss: 0.2735 - val_loss: 0.4655\n",
            "Epoch 11/20\n",
            "500/500 [==============================] - 51s 102ms/step - loss: 0.2683 - val_loss: 0.4736\n",
            "Epoch 12/20\n",
            "500/500 [==============================] - 51s 101ms/step - loss: 0.2638 - val_loss: 0.4811\n",
            "Epoch 13/20\n",
            "500/500 [==============================] - 51s 101ms/step - loss: 0.2602 - val_loss: 0.4787\n",
            "Epoch 14/20\n",
            "500/500 [==============================] - 51s 102ms/step - loss: 0.2569 - val_loss: 0.4646\n",
            "Epoch 15/20\n",
            "500/500 [==============================] - 50s 101ms/step - loss: 0.2520 - val_loss: 0.5040\n",
            "Epoch 16/20\n",
            "500/500 [==============================] - 51s 101ms/step - loss: 0.2527 - val_loss: 0.4731\n",
            "Epoch 17/20\n",
            "500/500 [==============================] - 51s 101ms/step - loss: 0.2489 - val_loss: 0.4804\n",
            "Epoch 18/20\n",
            "500/500 [==============================] - 51s 101ms/step - loss: 0.2479 - val_loss: 0.4721\n",
            "Epoch 19/20\n",
            "500/500 [==============================] - 51s 101ms/step - loss: 0.2433 - val_loss: 0.4770\n",
            "Epoch 20/20\n",
            "500/500 [==============================] - 52s 104ms/step - loss: 0.2419 - val_loss: 0.4757\n"
          ],
          "name": "stdout"
        }
      ]
    },
    {
      "metadata": {
        "id": "1KNe_2ZVZ-2J",
        "colab_type": "code",
        "colab": {
          "base_uri": "https://localhost:8080/",
          "height": 280
        },
        "outputId": "89a1c281-954d-44b6-ae25-5f5c40a945e7"
      },
      "cell_type": "code",
      "source": [
        "%matplotlib inline\n",
        "import matplotlib.pyplot as plt\n",
        "\n",
        "loss = history.history['loss']\n",
        "val_loss = history.history['val_loss']\n",
        "\n",
        "epochs = range(len(loss))\n",
        "\n",
        "plt.figure()\n",
        "\n",
        "plt.plot(epochs, loss, 'bo', label='Training loss')\n",
        "plt.plot(epochs, val_loss, 'b', label='Validation loss')\n",
        "plt.title('Training and validation loss')\n",
        "plt.legend();"
      ],
      "execution_count": 6,
      "outputs": [
        {
          "output_type": "display_data",
          "data": {
            "image/png": "[encoded data removed]",
            "text/plain": [
              "<matplotlib.figure.Figure at 0x7fb2999f4c88>"
            ]
          },
          "metadata": {
            "tags": []
          }
        }
      ]
    },
    {
      "metadata": {
        "id": "J9-tqRQ1a7Lt",
        "colab_type": "code",
        "colab": {}
      },
      "cell_type": "code",
      "source": [
        "# This was previously set to 6 (one point per hour).\n",
        "# Now 3 (one point per 30 min).\n",
        "step = 3\n",
        "lookback = 720  # Unchanged\n",
        "delay = 144 # Unchanged\n",
        "\n",
        "train_gen = generator(float_data,\n",
        "                      lookback=lookback,\n",
        "                      delay=delay,\n",
        "                      min_index=0,\n",
        "                      max_index=200000,\n",
        "                      shuffle=True,\n",
        "                      step=step)\n",
        "val_gen = generator(float_data,\n",
        "                    lookback=lookback,\n",
        "                    delay=delay,\n",
        "                    min_index=200001,\n",
        "                    max_index=300000,\n",
        "                    step=step)\n",
        "test_gen = generator(float_data,\n",
        "                     lookback=lookback,\n",
        "                     delay=delay,\n",
        "                     min_index=300001,\n",
        "                     max_index=None,\n",
        "                     step=step)\n",
        "val_steps = (300000 - 200001 - lookback) // 128\n",
        "test_steps = (len(float_data) - 300001 - lookback) // 128"
      ],
      "execution_count": 0,
      "outputs": []
    },
    {
      "metadata": {
        "id": "RQ5ydtNxbPGv",
        "colab_type": "text"
      },
      "cell_type": "markdown",
      "source": [
        "This is our model, starting with two `Conv1D` layers and following-up with a `GRU` layer:"
      ]
    },
    {
      "metadata": {
        "id": "xuS-OGiLbM_m",
        "colab_type": "code",
        "colab": {
          "base_uri": "https://localhost:8080/",
          "height": 1007
        },
        "outputId": "1b73ec48-1a42-4173-8efd-826405e32c79"
      },
      "cell_type": "code",
      "source": [
        "model = Sequential()\n",
        "model.add(layers.Conv1D(32, 5, activation='relu',\n",
        "                       input_shape=(None, float_data.shape[-1])))\n",
        "model.add(layers.MaxPooling1D(3))\n",
        "model.add(layers.Conv1D(32, 5, activation='relu'))\n",
        "model.add(layers.GRU(32, dropout=0.1, recurrent_dropout=0.5))\n",
        "model.add(layers.Dense(1))\n",
        "\n",
        "model.summary()\n",
        "\n",
        "model.compile(optimizer=RMSprop(), loss='mae')\n",
        "history = model.fit_generator(train_gen,\n",
        "                              steps_per_epoch=500,\n",
        "                              epochs=20,\n",
        "                              validation_data=val_gen,\n",
        "                              validation_steps=val_steps)"
      ],
      "execution_count": 8,
      "outputs": [
        {
          "output_type": "stream",
          "text": [
            "_________________________________________________________________\n",
            "Layer (type)                 Output Shape              Param #   \n",
            "=================================================================\n",
            "conv1d_4 (Conv1D)            (None, None, 32)          2272      \n",
            "_________________________________________________________________\n",
            "max_pooling1d_3 (MaxPooling1 (None, None, 32)          0         \n",
            "_________________________________________________________________\n",
            "conv1d_5 (Conv1D)            (None, None, 32)          5152      \n",
            "_________________________________________________________________\n",
            "gru_1 (GRU)                  (None, 32)                6240      \n",
            "_________________________________________________________________\n",
            "dense_2 (Dense)              (None, 1)                 33        \n",
            "=================================================================\n",
            "Total params: 13,697\n",
            "Trainable params: 13,697\n",
            "Non-trainable params: 0\n",
            "_________________________________________________________________\n",
            "Epoch 1/20\n",
            "500/500 [==============================] - 91s 182ms/step - loss: 0.3407 - val_loss: 0.2936\n",
            "Epoch 2/20\n",
            "500/500 [==============================] - 89s 179ms/step - loss: 0.3067 - val_loss: 0.2739\n",
            "Epoch 3/20\n",
            "500/500 [==============================] - 90s 179ms/step - loss: 0.2934 - val_loss: 0.2706\n",
            "Epoch 4/20\n",
            "500/500 [==============================] - 90s 180ms/step - loss: 0.2873 - val_loss: 0.2691\n",
            "Epoch 5/20\n",
            "500/500 [==============================] - 90s 179ms/step - loss: 0.2813 - val_loss: 0.2815\n",
            "Epoch 6/20\n",
            "500/500 [==============================] - 89s 178ms/step - loss: 0.2736 - val_loss: 0.2701\n",
            "Epoch 7/20\n",
            "500/500 [==============================] - 90s 180ms/step - loss: 0.2720 - val_loss: 0.2747\n",
            "Epoch 8/20\n",
            "500/500 [==============================] - 89s 178ms/step - loss: 0.2648 - val_loss: 0.2724\n",
            "Epoch 9/20\n",
            "500/500 [==============================] - 88s 177ms/step - loss: 0.2611 - val_loss: 0.2708\n",
            "Epoch 10/20\n",
            "500/500 [==============================] - 88s 177ms/step - loss: 0.2569 - val_loss: 0.2823\n",
            "Epoch 11/20\n",
            "500/500 [==============================] - 89s 178ms/step - loss: 0.2539 - val_loss: 0.2805\n",
            "Epoch 12/20\n",
            "500/500 [==============================] - 88s 177ms/step - loss: 0.2488 - val_loss: 0.2782\n",
            "Epoch 13/20\n",
            "500/500 [==============================] - 88s 177ms/step - loss: 0.2458 - val_loss: 0.2812\n",
            "Epoch 14/20\n",
            "500/500 [==============================] - 90s 180ms/step - loss: 0.2417 - val_loss: 0.2904\n",
            "Epoch 15/20\n",
            "500/500 [==============================] - 90s 179ms/step - loss: 0.2390 - val_loss: 0.2886\n",
            "Epoch 16/20\n",
            "500/500 [==============================] - 89s 178ms/step - loss: 0.2354 - val_loss: 0.2824\n",
            "Epoch 17/20\n",
            "500/500 [==============================] - 89s 179ms/step - loss: 0.2329 - val_loss: 0.2845\n",
            "Epoch 18/20\n",
            "500/500 [==============================] - 89s 178ms/step - loss: 0.2323 - val_loss: 0.2904\n",
            "Epoch 19/20\n",
            "500/500 [==============================] - 89s 178ms/step - loss: 0.2286 - val_loss: 0.2861\n",
            "Epoch 20/20\n",
            "500/500 [==============================] - 89s 179ms/step - loss: 0.2251 - val_loss: 0.2902\n"
          ],
          "name": "stdout"
        }
      ]
    },
    {
      "metadata": {
        "id": "oWpA6Arcb20J",
        "colab_type": "code",
        "colab": {
          "base_uri": "https://localhost:8080/",
          "height": 280
        },
        "outputId": "0cf50d86-1d1b-4ede-beb0-41626e3767ea"
      },
      "cell_type": "code",
      "source": [
        "loss = history.history['loss']\n",
        "val_loss = history.history['val_loss']\n",
        "\n",
        "epochs = range(len(loss))\n",
        "\n",
        "plt.figure()\n",
        "\n",
        "plt.plot(epochs, loss, 'bo', label='Training loss')\n",
        "plt.plot(epochs, val_loss, 'b', label='Validation loss')\n",
        "plt.title('Training and validation loss')\n",
        "plt.legend();"
      ],
      "execution_count": 9,
      "outputs": [
        {
          "output_type": "display_data",
          "data": {
            "image/png": "[encoded data removed]",
            "text/plain": [
              "<matplotlib.figure.Figure at 0x7fb27b029dd8>"
            ]
          },
          "metadata": {
            "tags": []
          }
        }
      ]
    }
  ]
}