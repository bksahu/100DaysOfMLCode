{
  "nbformat": 4,
  "nbformat_minor": 0,
  "metadata": {
    "colab": {
      "name": "Bidirectional RNNs on IMDB Data.ipynb",
      "version": "0.3.2",
      "provenance": []
    },
    "kernelspec": {
      "name": "python3",
      "display_name": "Python 3"
    },
    "accelerator": "GPU"
  },
  "cells": [
    {
      "metadata": {
        "id": "6kWOvqwJ75DS",
        "colab_type": "code",
        "colab": {}
      },
      "cell_type": "code",
      "source": [
        "from keras.datasets import imdb\n",
        "from keras.preprocessing import sequence\n",
        "from keras import layers\n",
        "from keras.models import Sequential\n",
        "\n",
        "# Number of words to consider as features\n",
        "max_features = 10000\n",
        "# Cut texts after this number of words (among top max_features most common words)\n",
        "maxlen = 500\n",
        "\n",
        "# Load data\n",
        "(x_train, y_train), (x_test, y_test) = imdb.load_data(num_words=max_features)\n",
        "\n",
        "# Reverse sequences\n",
        "x_train = [x[::-1] for x in x_train]\n",
        "x_test = [x[::-1] for x in x_test]\n",
        "\n",
        "# Pad sequences\n",
        "x_train = sequence.pad_sequences(x_train, maxlen=maxlen)\n",
        "x_test = sequence.pad_sequences(x_test, maxlen=maxlen)"
      ],
      "execution_count": 0,
      "outputs": []
    },
    {
      "metadata": {
        "id": "c4fpNC488G7Y",
        "colab_type": "code",
        "colab": {
          "base_uri": "https://localhost:8080/",
          "height": 382
        },
        "outputId": "c06af1fe-8950-4ed5-cd05-1f6924540df9"
      },
      "cell_type": "code",
      "source": [
        "model = Sequential()\n",
        "model.add(layers.Embedding(max_features, 32))\n",
        "model.add(layers.Bidirectional(layers.LSTM(32)))\n",
        "model.add(layers.Dense(1, activation='sigmoid'))\n",
        "\n",
        "model.compile(optimizer='rmsprop', loss='binary_crossentropy', metrics=['acc'])\n",
        "history = model.fit(x_train, y_train, epochs=10, batch_size=128, validation_split=0.2)"
      ],
      "execution_count": 4,
      "outputs": [
        {
          "output_type": "stream",
          "text": [
            "Train on 20000 samples, validate on 5000 samples\n",
            "Epoch 1/10\n",
            "20000/20000 [==============================] - 395s 20ms/step - loss: 0.5455 - acc: 0.7278 - val_loss: 0.5099 - val_acc: 0.7672\n",
            "Epoch 2/10\n",
            "20000/20000 [==============================] - 401s 20ms/step - loss: 0.3305 - acc: 0.8731 - val_loss: 0.3484 - val_acc: 0.8720\n",
            "Epoch 3/10\n",
            "20000/20000 [==============================] - 431s 22ms/step - loss: 0.2708 - acc: 0.9031 - val_loss: 0.3216 - val_acc: 0.8652\n",
            "Epoch 4/10\n",
            "20000/20000 [==============================] - 430s 21ms/step - loss: 0.2324 - acc: 0.9184 - val_loss: 0.7320 - val_acc: 0.8014\n",
            "Epoch 5/10\n",
            "20000/20000 [==============================] - 431s 22ms/step - loss: 0.2074 - acc: 0.9280 - val_loss: 0.3148 - val_acc: 0.8822\n",
            "Epoch 6/10\n",
            "20000/20000 [==============================] - 431s 22ms/step - loss: 0.1845 - acc: 0.9347 - val_loss: 0.3988 - val_acc: 0.8214\n",
            "Epoch 7/10\n",
            "20000/20000 [==============================] - 431s 22ms/step - loss: 0.1685 - acc: 0.9439 - val_loss: 0.3618 - val_acc: 0.8692\n",
            "Epoch 8/10\n",
            "20000/20000 [==============================] - 433s 22ms/step - loss: 0.1536 - acc: 0.9501 - val_loss: 0.4679 - val_acc: 0.8252\n",
            "Epoch 9/10\n",
            "20000/20000 [==============================] - 431s 22ms/step - loss: 0.1400 - acc: 0.9525 - val_loss: 0.3555 - val_acc: 0.8802\n",
            "Epoch 10/10\n",
            "20000/20000 [==============================] - 436s 22ms/step - loss: 0.1316 - acc: 0.9561 - val_loss: 0.3811 - val_acc: 0.8804\n"
          ],
          "name": "stdout"
        }
      ]
    },
    {
      "metadata": {
        "id": "d20kpkrz8N1t",
        "colab_type": "code",
        "colab": {}
      },
      "cell_type": "code",
      "source": [
        ""
      ],
      "execution_count": 0,
      "outputs": []
    }
  ]
}