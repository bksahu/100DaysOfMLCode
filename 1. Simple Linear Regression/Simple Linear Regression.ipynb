{
 "cells": [
  {
   "cell_type": "markdown",
   "metadata": {},
   "source": [
    "# Day 1. Simple Linear Regression\n",
    "Today we will learn some basics of SLR and implement it in Python in 3 ways:\n",
    "1. From Scratch\n",
    "2. Using Statsmodels \n",
    "3. Using Scikit-learn"
   ]
  },
  {
   "cell_type": "markdown",
   "metadata": {},
   "source": [
    "## 1. Introduction\n",
    "\n",
    "##### _\"Our aim is to find the coefficients $b_0$ and $b_1$ from the training dataset (X) and then using those same coefficients we try to predict for the new data (y).\"_\n",
    "\n",
    "The equation of Simple Linear Regression is the linear combination of the input variables (X) with the output variables (y).\n",
    "\n",
    "$${\\hat{y}  =  b_0  +  b_1x}$$\n",
    "\n",
    "$${where, \\hat{y} = Output/Predicted}$$\n",
    "       $${x = Input/Predictor}$$ \n",
    "       $${b_0, b_1 = Coffecients}$$ \n"
   ]
  },
  {
   "cell_type": "markdown",
   "metadata": {},
   "source": [
    "## 2. Implementation"
   ]
  },
  {
   "cell_type": "markdown",
   "metadata": {},
   "source": [
    "### 2.1 From Scratch\n",
    "\n",
    "Before writing any function let's first see what does out data looks like. We generate a small dataset for this and work with it for simplicity.\n",
    "\n",
    "| X | y |\n",
    "|---|---|\n",
    "| 1 | 1 |\n",
    "| 2 | 3 |\n",
    "| 4 | 3 |\n",
    "| 3 | 2 |\n",
    "| 5 | 5 |\n"
   ]
  },
  {
   "cell_type": "code",
   "execution_count": 8,
   "metadata": {},
   "outputs": [
    {
     "data": {
      "image/png": "[encoded data removed]",
      "text/plain": [
       "<matplotlib.figure.Figure at 0x2d495420eb8>"
      ]
     },
     "metadata": {},
     "output_type": "display_data"
    }
   ],
   "source": [
    "%matplotlib inline\n",
    "from matplotlib import pyplot\n",
    "\n",
    "# Visualize the dataset\n",
    "dataset = [[1, 1], [2, 3], [4, 3], [3, 2], [5, 5]]\n",
    "X = [row[0] for row in dataset]\n",
    "y = [row[1] for row in dataset]\n",
    "pyplot.scatter(X, y, color='red')\n",
    "pyplot.show()\n"
   ]
  },
  {
   "cell_type": "markdown",
   "metadata": {},
   "source": [
    "So our aim here is to find y using X. To do so we will start by defining mean, variance and covariance using those formulas.\n",
    "The covariance describes the relation between X and y.\n",
    "\n",
    "$${\\mu = \\frac{x_i}{n}}$$\n",
    "$${\\sigma^2 = \\frac{\\displaystyle\\sum_{i=1}^{n}(x_i - \\mu)^2} {n}}$$\n",
    "$${cov_{x,y}=\\frac{\\displaystyle\\sum_{i=1}^{N}(x_{i}-\\bar{x})(y_{i}-\\bar{y})}{n}}$$"
   ]
  },
  {
   "cell_type": "code",
   "execution_count": 9,
   "metadata": {},
   "outputs": [],
   "source": [
    "# Calculate the mean of list of values \n",
    "def mean(values):\n",
    "    return sum(values) / float(len(values))\n",
    "\n",
    "# Calculate the variance \n",
    "def variance(values, mean):\n",
    "    return sum([(x-mean)**2 for x in values])\n",
    "\n",
    "# Calculate covariance between X and y\n",
    "def covariance(X, mean_x, y, mean_y):\n",
    "    covar = 0.0\n",
    "    for i in range(len(X)):\n",
    "        covar += (X[i] - mean_x) * (y[i] - mean_y)\n",
    "    return covar"
   ]
  },
  {
   "cell_type": "markdown",
   "metadata": {},
   "source": [
    "Now we will calculate the coefficents that will help us in prediction. A simple $b$ can be calculated using \n",
    "\n",
    "$${b = \\frac{Cov\\thinspace(X,\\thinspace y)}{Var\\thinspace(X)}}$$"
   ]
  },
  {
   "cell_type": "code",
   "execution_count": 10,
   "metadata": {},
   "outputs": [],
   "source": [
    "# Estimate Coefficients\n",
    "def coefficients(dataset):\n",
    "    X = [row[0] for row in dataset]\n",
    "    y = [row[1] for row in dataset]\n",
    "    X_mean, y_mean = mean(X), mean(y)\n",
    "    b1 = covariance(X, X_mean, y, y_mean) / variance(X, X_mean)\n",
    "    b0 = y_mean - b1 * X_mean\n",
    "    return [b0, b1]"
   ]
  },
  {
   "cell_type": "markdown",
   "metadata": {},
   "source": [
    "Root Mean Square Error (RMSE) is the standard deviation of the residuals (prediction errors)."
   ]
  },
  {
   "cell_type": "code",
   "execution_count": 11,
   "metadata": {},
   "outputs": [],
   "source": [
    "from math import sqrt\n",
    "\n",
    "# Calculate RMSE\n",
    "def rmse_metric(actual, predicted):\n",
    "    sum_error = 0.0 \n",
    "    for i in range(len(actual)):\n",
    "        prediction_error = predicted[i] - actual[i]\n",
    "        sum_error += (prediction_error ** 2)\n",
    "    mean_error = sum_error / float(len(actual))\n",
    "    return sqrt(mean_error)\n"
   ]
  },
  {
   "cell_type": "markdown",
   "metadata": {},
   "source": [
    "Now we will implement the algorithm that calculates $\\hat{y}$ using formula ${\\hat{y}  =  b_0  +  b_1x}$"
   ]
  },
  {
   "cell_type": "code",
   "execution_count": 14,
   "metadata": {},
   "outputs": [],
   "source": [
    "# Simple linear regression algorithm\n",
    "def simple_linear_regression(train, test):\n",
    "    predictions = list()\n",
    "    b0, b1 = coefficients(train)\n",
    "    for row in test:\n",
    "        yhat = b0 + b1 * row[0]\n",
    "        predictions.append(yhat)\n",
    "    return predictions    \n",
    "\n",
    "# Evaluate regression algo on training dataset\n",
    "def evaluate_algorithm(dataset, algorithm):\n",
    "    test_set = list()\n",
    "    for row in dataset:\n",
    "        row_copy = list(row)\n",
    "        row_copy[-1] = None\n",
    "        test_set.append(row_copy)   # remove the y and keep only x\n",
    "    predicted = algorithm(dataset, test_set)\n",
    "    print(\"Predicted values \",predicted)\n",
    "    actual = [row[-1] for row in dataset]\n",
    "    rmse = rmse_metric(actual, predicted)\n",
    "    return rmse   "
   ]
  },
  {
   "cell_type": "markdown",
   "metadata": {},
   "source": [
    "Now our program is ready. We can test this on our dataset."
   ]
  },
  {
   "cell_type": "code",
   "execution_count": 15,
   "metadata": {},
   "outputs": [
    {
     "name": "stdout",
     "output_type": "stream",
     "text": [
      "Predicted values  [1.1999999999999995, 1.9999999999999996, 3.5999999999999996, 2.8, 4.3999999999999995]\n",
      "RMSE: 0.693\n"
     ]
    }
   ],
   "source": [
    "rmse = evaluate_algorithm(dataset, simple_linear_regression)\n",
    "print('RMSE: %.3f' % (rmse))"
   ]
  },
  {
   "cell_type": "markdown",
   "metadata": {},
   "source": [
    "### 2.2 Using Statsmodels \n",
    "We can also do SRL using statsmodels library. We can fit our model using the fit() and predict using predict(). \n",
    "\n",
    "\n",
    "**NOTE:** OLS take y as first parameter and X as second parameter."
   ]
  },
  {
   "cell_type": "code",
   "execution_count": 16,
   "metadata": {},
   "outputs": [
    {
     "name": "stdout",
     "output_type": "stream",
     "text": [
      "                            OLS Regression Results                            \n",
      "==============================================================================\n",
      "Dep. Variable:                      y   R-squared:                       0.727\n",
      "Model:                            OLS   Adj. R-squared:                  0.636\n",
      "Method:                 Least Squares   F-statistic:                     8.000\n",
      "Date:                Sun, 08 Jul 2018   Prob (F-statistic):             0.0663\n",
      "Time:                        13:49:25   Log-Likelihood:                -5.2598\n",
      "No. Observations:                   5   AIC:                             14.52\n",
      "Df Residuals:                       3   BIC:                             13.74\n",
      "Df Model:                           1                                         \n",
      "Covariance Type:            nonrobust                                         \n",
      "==============================================================================\n",
      "                 coef    std err          t      P>|t|      [0.025      0.975]\n",
      "------------------------------------------------------------------------------\n",
      "const          0.4000      0.938      0.426      0.699      -2.585       3.385\n",
      "x1             0.8000      0.283      2.828      0.066      -0.100       1.700\n",
      "==============================================================================\n",
      "Omnibus:                          nan   Durbin-Watson:                   2.500\n",
      "Prob(Omnibus):                    nan   Jarque-Bera (JB):                0.570\n",
      "Skew:                           0.289   Prob(JB):                        0.752\n",
      "Kurtosis:                       1.450   Cond. No.                         8.37\n",
      "==============================================================================\n",
      "\n",
      "Warnings:\n",
      "[1] Standard Errors assume that the covariance matrix of the errors is correctly specified.\n"
     ]
    }
   ],
   "source": [
    "import warnings;warnings.filterwarnings('ignore')\n",
    "\n",
    "import statsmodels.api as sm\n",
    "\n",
    "dataset = [[1, 1], [2, 3], [4, 3], [3, 2], [5, 5]]\n",
    "\n",
    "# Input\n",
    "X = [row[0] for row in dataset]\n",
    "\n",
    "# Output\n",
    "y = [row[1] for row in dataset]\n",
    "\n",
    "# Add b_0\n",
    "X = sm.add_constant(X)\n",
    "\n",
    "# Fitting model\n",
    "model = sm.OLS(y, X).fit()\n",
    "\n",
    "# Prediction\n",
    "predictions = model.predict(X) \n",
    "\n",
    "# Print out the statistics\n",
    "print(model.summary())"
   ]
  },
  {
   "cell_type": "markdown",
   "metadata": {},
   "source": [
    "### 2.3 Using Sklearn\n",
    "We can do this by using linear_model. We have also imported mean_squared_error and r2_score module to fine the MSE and r2"
   ]
  },
  {
   "cell_type": "code",
   "execution_count": 17,
   "metadata": {},
   "outputs": [
    {
     "name": "stdout",
     "output_type": "stream",
     "text": [
      "Coefficients: \n",
      " [[0.8]]\n",
      "Mean squared error: 0.48\n",
      "Variance score: 0.73\n"
     ]
    }
   ],
   "source": [
    "import warnings;warnings.filterwarnings('ignore')\n",
    "\n",
    "from sklearn import linear_model\n",
    "from sklearn.metrics import mean_squared_error, r2_score\n",
    "import numpy as np\n",
    "\n",
    "dataset = [[1, 1], [2, 3], [4, 3], [3, 2], [5, 5]]\n",
    "\n",
    "# Input\n",
    "X = np.asarray([row[0] for row in dataset]).reshape(-1, 1)\n",
    "\n",
    "# Output\n",
    "y = np.asarray([row[1] for row in dataset]).reshape(-1, 1)\n",
    "\n",
    "# define classifier\n",
    "regr = linear_model.LinearRegression()\n",
    "\n",
    "# Fit the model\n",
    "regr.fit(X, y)\n",
    "\n",
    "# Prediction\n",
    "predictions = regr.predict(X) \n",
    "\n",
    "# The coefficients\n",
    "print('Coefficients: \\n', regr.coef_)\n",
    "\n",
    "# The mean squared error\n",
    "print(\"Mean squared error: %.2f\"\n",
    "      % mean_squared_error(y, predictions))\n",
    "\n",
    "# Explained variance score: 1 is perfect prediction\n",
    "print('Variance score: %.2f' % r2_score(y, predictions))"
   ]
  },
  {
   "cell_type": "markdown",
   "metadata": {},
   "source": [
    "Ref: <br>\n",
    "[1] https://machinelearningmastery.com/implement-simple-linear-regression-scratch-python/ <br>\n",
    "[2] https://towardsdatascience.com/simple-and-multiple-linear-regression-in-python-c928425168f9 <br>\n",
    "[3] http://scikit-learn.org/stable/auto_examples/linear_model/plot_ols.html"
   ]
  }
 ],
 "metadata": {
  "kernelspec": {
   "display_name": "Python 3",
   "language": "python",
   "name": "python3"
  }
 },
 "nbformat": 4,
 "nbformat_minor": 2
}
