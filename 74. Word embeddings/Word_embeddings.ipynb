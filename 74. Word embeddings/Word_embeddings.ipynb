{
  "nbformat": 4,
  "nbformat_minor": 0,
  "metadata": {
    "colab": {
      "name": "Word embeddings.ipynb",
      "version": "0.3.2",
      "provenance": []
    },
    "kernelspec": {
      "name": "python3",
      "display_name": "Python 3"
    },
    "accelerator": "GPU"
  },
  "cells": [
    {
      "metadata": {
        "id": "vvq0RQYLkVAa",
        "colab_type": "code",
        "colab": {
          "base_uri": "https://localhost:8080/",
          "height": 34
        },
        "outputId": "969d062d-db99-4857-c792-c431f658d4cd"
      },
      "cell_type": "code",
      "source": [
        "import keras\n",
        "keras.__version__"
      ],
      "execution_count": 10,
      "outputs": [
        {
          "output_type": "execute_result",
          "data": {
            "text/plain": [
              "'2.1.6'"
            ]
          },
          "metadata": {
            "tags": []
          },
          "execution_count": 10
        }
      ]
    },
    {
      "metadata": {
        "id": "JwJWt6M7mTJ1",
        "colab_type": "text"
      },
      "cell_type": "markdown",
      "source": [
        "Let's Instantiating an Embedding layer. The `Embedding` layer is best understood as a dictonary that maps integer indices (which stand for specific words) to dense vectors, and it returns the associated vectors. "
      ]
    },
    {
      "metadata": {
        "id": "czHlKNHRmLoK",
        "colab_type": "code",
        "colab": {}
      },
      "cell_type": "code",
      "source": [
        "from keras.layers import Embedding\n",
        "embedding_layer = Embedding(1000, 64)"
      ],
      "execution_count": 0,
      "outputs": []
    },
    {
      "metadata": {
        "id": "mPLtOEHTnicn",
        "colab_type": "text"
      },
      "cell_type": "markdown",
      "source": [
        "`Embedding` layer takes as input a 2D tensor of intergers, of shape `(samples, sequence_length)`, where each entry us a sequence of integers.\n",
        "\n",
        "Let's apply embeddings in teh IMDB movie-review sentiment-prediction task."
      ]
    },
    {
      "metadata": {
        "id": "ZQUIq-CEmswz",
        "colab_type": "code",
        "colab": {}
      },
      "cell_type": "code",
      "source": [
        "from keras.datasets import imdb\n",
        "from keras import preprocessing\n",
        "\n",
        "max_features = 10000\n",
        "maxlen = 20\n",
        "\n",
        "(x_train, y_train), (x_test, y_test) = imdb.load_data(num_words=max_features)\n",
        "\n",
        "# turn lists of int into 2D int tensor\n",
        "x_train = preprocessing.sequence.pad_sequences(x_train, maxlen=maxlen)\n",
        "x_test = preprocessing.sequence.pad_sequences(x_test, maxlen=maxlen)"
      ],
      "execution_count": 0,
      "outputs": []
    },
    {
      "metadata": {
        "id": "su12KlNRo2nc",
        "colab_type": "code",
        "colab": {
          "base_uri": "https://localhost:8080/",
          "height": 607
        },
        "outputId": "ca08063b-19dd-42ff-df40-9c8ddea20a05"
      },
      "cell_type": "code",
      "source": [
        "from keras.models import Sequential\n",
        "from keras.layers import Flatten, Dense\n",
        "\n",
        "model = Sequential()\n",
        "model.add(Embedding(10000, 8, input_length=maxlen))\n",
        "\n",
        "model.add(Flatten())\n",
        "\n",
        "model.add(Dense(1, activation='sigmoid'))\n",
        "model.compile(optimizer='rmsprop', loss='binary_crossentropy', metrics=['acc'])\n",
        "model.summary()\n",
        "history = model.fit(x_train, y_train,\n",
        "epochs=10,\n",
        "batch_size=32,\n",
        "validation_split=0.2)"
      ],
      "execution_count": 15,
      "outputs": [
        {
          "output_type": "stream",
          "text": [
            "_________________________________________________________________\n",
            "Layer (type)                 Output Shape              Param #   \n",
            "=================================================================\n",
            "embedding_5 (Embedding)      (None, 20, 8)             80000     \n",
            "_________________________________________________________________\n",
            "flatten_1 (Flatten)          (None, 160)               0         \n",
            "_________________________________________________________________\n",
            "dense_1 (Dense)              (None, 1)                 161       \n",
            "=================================================================\n",
            "Total params: 80,161\n",
            "Trainable params: 80,161\n",
            "Non-trainable params: 0\n",
            "_________________________________________________________________\n",
            "Train on 20000 samples, validate on 5000 samples\n",
            "Epoch 1/10\n",
            "20000/20000 [==============================] - 1s 74us/step - loss: 0.6759 - acc: 0.6050 - val_loss: 0.6398 - val_acc: 0.6812\n",
            "Epoch 2/10\n",
            "20000/20000 [==============================] - 1s 67us/step - loss: 0.5658 - acc: 0.7426 - val_loss: 0.5467 - val_acc: 0.7206\n",
            "Epoch 3/10\n",
            "20000/20000 [==============================] - 1s 67us/step - loss: 0.4752 - acc: 0.7807 - val_loss: 0.5113 - val_acc: 0.7384\n",
            "Epoch 4/10\n",
            "20000/20000 [==============================] - 1s 67us/step - loss: 0.4263 - acc: 0.8077 - val_loss: 0.5008 - val_acc: 0.7452\n",
            "Epoch 5/10\n",
            "20000/20000 [==============================] - 1s 67us/step - loss: 0.3930 - acc: 0.8257 - val_loss: 0.4981 - val_acc: 0.7536\n",
            "Epoch 6/10\n",
            "20000/20000 [==============================] - 1s 66us/step - loss: 0.3668 - acc: 0.8395 - val_loss: 0.5014 - val_acc: 0.7530\n",
            "Epoch 7/10\n",
            "20000/20000 [==============================] - 1s 67us/step - loss: 0.3435 - acc: 0.8533 - val_loss: 0.5052 - val_acc: 0.7520\n",
            "Epoch 8/10\n",
            "20000/20000 [==============================] - 1s 66us/step - loss: 0.3223 - acc: 0.8657 - val_loss: 0.5132 - val_acc: 0.7486\n",
            "Epoch 9/10\n",
            "20000/20000 [==============================] - 1s 67us/step - loss: 0.3023 - acc: 0.8766 - val_loss: 0.5214 - val_acc: 0.7490\n",
            "Epoch 10/10\n",
            "20000/20000 [==============================] - 1s 67us/step - loss: 0.2839 - acc: 0.8860 - val_loss: 0.5303 - val_acc: 0.7466\n"
          ],
          "name": "stdout"
        }
      ]
    }
  ]
}