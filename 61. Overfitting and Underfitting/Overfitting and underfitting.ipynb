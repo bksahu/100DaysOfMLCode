{
 "cells": [
  {
   "cell_type": "code",
   "execution_count": 1,
   "metadata": {},
   "outputs": [
    {
     "name": "stderr",
     "output_type": "stream",
     "text": [
      "Using TensorFlow backend.\n"
     ]
    },
    {
     "data": {
      "text/plain": [
       "'2.2.2'"
      ]
     },
     "execution_count": 1,
     "metadata": {},
     "output_type": "execute_result"
    }
   ],
   "source": [
    "import keras \n",
    "keras.__version__"
   ]
  },
  {
   "cell_type": "markdown",
   "metadata": {},
   "source": [
    "# Overfitting and Underfitting\n",
    "\n",
    "Overfitting happens in every single machine learning problem. Due to which we could notice that the performance of our model on the held-out validation data would always peak after a few epochs and would then start degrading."
   ]
  },
  {
   "cell_type": "markdown",
   "metadata": {},
   "source": [
    "We will be using the IMDB test set as our validation set. Let's first prepare our data."
   ]
  },
  {
   "cell_type": "code",
   "execution_count": 2,
   "metadata": {},
   "outputs": [],
   "source": [
    "from keras.datasets import imdb\n",
    "import numpy as np\n",
    "\n",
    "(train_data, train_labels), (test_data, test_labels) = imdb.load_data(num_words=10000)\n",
    "\n",
    "def vectorize_sequences(sequences, dimension=10000):\n",
    "    # Create an all-zero matrix of shape (len(sequences), dimension)\n",
    "    results = np.zeros((len(sequences), dimension))\n",
    "    for i, sequence in enumerate(sequences):\n",
    "        results[i, sequence] = 1.  # set specific indices of results[i] to 1s\n",
    "    return results\n",
    "\n",
    "# Our vectorized training data\n",
    "x_train = vectorize_sequences(train_data)\n",
    "# Our vectorized test data\n",
    "x_test = vectorize_sequences(test_data)\n",
    "# Our vectorized labels\n",
    "y_train = np.asarray(train_labels).astype('float32')\n",
    "y_test = np.asarray(test_labels).astype('float32')"
   ]
  },
  {
   "cell_type": "markdown",
   "metadata": {},
   "source": [
    "## Fighting overfitting\n",
    "\n",
    "### Reducing the network's size\n",
    "The simplest way to prevent overfitting is to reduce the number of learnable parameters in the model. We don't want our model to have prefect dictionary-like mapping between traing samples and their targets, a mapping without any generalization power.\n",
    "\n",
    "On the other hand, if the network has limited memorization resources, it will not be able to learn this mapping as easily, and thus, in order to minimize its loss, it will have to resort to learning compressed representations that have predictive power regarding the targets -- precisely the type of representations that we are interested in. At the same time, keep in mind that you should be using models that have enough parameters that they won't be underfitting: your model shouldn't be starved for memorization resources. There is a compromise to be found between \"too much capacity\" and \"not enough capacity\".\n",
    "\n"
   ]
  },
  {
   "cell_type": "markdown",
   "metadata": {},
   "source": [
    "Unfortunately, there is no magical formula to determine what the right number of layers is, or what the right size for each layer is. You will have to evaluate an array of different architectures (on your validation set, not on your test set, of course) in order to find the right model size for your data. The general workflow to find an appropriate model size is to start with relatively few layers and parameters, and start increasing the size of the layers or adding new layers until you see diminishing returns with regard to the validation loss.\n",
    "\n",
    "Let's try this on our movie review classification network. Our basic (original) network is as such:"
   ]
  },
  {
   "cell_type": "code",
   "execution_count": 14,
   "metadata": {},
   "outputs": [],
   "source": [
    "from keras import models\n",
    "from keras import layers\n",
    "\n",
    "original_model = models.Sequential()\n",
    "original_model.add(layers.Dense(16, activation='relu', input_shape=(10000,)))\n",
    "original_model.add(layers.Dense(16, activation='relu'))\n",
    "original_model.add(layers.Dense(1, activation='sigmoid'))\n",
    "\n",
    "original_model.compile(optimizer='rmsprop',\n",
    "                      loss='binary_crossentropy',\n",
    "                      metrics=['acc'])"
   ]
  },
  {
   "cell_type": "code",
   "execution_count": 15,
   "metadata": {},
   "outputs": [],
   "source": [
    "smaller_model = models.Sequential()\n",
    "smaller_model.add(layers.Dense(4, activation='relu', input_shape=(10000,)))\n",
    "smaller_model.add(layers.Dense(4, activation='relu'))\n",
    "smaller_model.add(layers.Dense(1, activation='sigmoid'))\n",
    "\n",
    "smaller_model.compile(optimizer='rmsprop',\n",
    "                      loss='binary_crossentropy',\n",
    "                      metrics=['acc'])"
   ]
  },
  {
   "cell_type": "markdown",
   "metadata": {},
   "source": [
    "Here's a comparison of the validation losses of the original network and the smaller network. "
   ]
  },
  {
   "cell_type": "code",
   "execution_count": 16,
   "metadata": {},
   "outputs": [
    {
     "name": "stdout",
     "output_type": "stream",
     "text": [
      "Train on 25000 samples, validate on 25000 samples\n",
      "Epoch 1/20\n",
      "25000/25000 [==============================] - 3s 139us/step - loss: 0.4384 - acc: 0.8236 - val_loss: 0.3418 - val_acc: 0.8687\n",
      "Epoch 2/20\n",
      "25000/25000 [==============================] - 3s 129us/step - loss: 0.2527 - acc: 0.9099 - val_loss: 0.2978 - val_acc: 0.8806\n",
      "Epoch 3/20\n",
      "25000/25000 [==============================] - 3s 136us/step - loss: 0.1952 - acc: 0.9301 - val_loss: 0.2844 - val_acc: 0.8855\n",
      "Epoch 4/20\n",
      "25000/25000 [==============================] - 3s 132us/step - loss: 0.1636 - acc: 0.9430 - val_loss: 0.2964 - val_acc: 0.8829\n",
      "Epoch 5/20\n",
      "25000/25000 [==============================] - 4s 146us/step - loss: 0.1389 - acc: 0.9520 - val_loss: 0.3364 - val_acc: 0.8719\n",
      "Epoch 6/20\n",
      "25000/25000 [==============================] - 3s 134us/step - loss: 0.1208 - acc: 0.9578 - val_loss: 0.3377 - val_acc: 0.8763\n",
      "Epoch 7/20\n",
      "25000/25000 [==============================] - 4s 151us/step - loss: 0.1039 - acc: 0.9654 - val_loss: 0.3632 - val_acc: 0.8732\n",
      "Epoch 8/20\n",
      "25000/25000 [==============================] - 3s 133us/step - loss: 0.0907 - acc: 0.9699 - val_loss: 0.3996 - val_acc: 0.8681\n",
      "Epoch 9/20\n",
      "25000/25000 [==============================] - 4s 146us/step - loss: 0.0760 - acc: 0.9754 - val_loss: 0.4859 - val_acc: 0.8514\n",
      "Epoch 10/20\n",
      "25000/25000 [==============================] - 3s 134us/step - loss: 0.0653 - acc: 0.9797 - val_loss: 0.4959 - val_acc: 0.8559\n",
      "Epoch 11/20\n",
      "25000/25000 [==============================] - 4s 145us/step - loss: 0.0556 - acc: 0.9832 - val_loss: 0.5769 - val_acc: 0.8458\n",
      "Epoch 12/20\n",
      "25000/25000 [==============================] - 4s 145us/step - loss: 0.0464 - acc: 0.9864 - val_loss: 0.5513 - val_acc: 0.8546\n",
      "Epoch 13/20\n",
      "25000/25000 [==============================] - 4s 149us/step - loss: 0.0393 - acc: 0.9887 - val_loss: 0.5707 - val_acc: 0.8543\n",
      "Epoch 14/20\n",
      "25000/25000 [==============================] - 4s 147us/step - loss: 0.0339 - acc: 0.9904 - val_loss: 0.5970 - val_acc: 0.8543\n",
      "Epoch 15/20\n",
      "25000/25000 [==============================] - 4s 145us/step - loss: 0.0264 - acc: 0.9932 - val_loss: 0.6147 - val_acc: 0.8554\n",
      "Epoch 16/20\n",
      "25000/25000 [==============================] - 4s 159us/step - loss: 0.0206 - acc: 0.9954 - val_loss: 0.6602 - val_acc: 0.8523\n",
      "Epoch 17/20\n",
      "25000/25000 [==============================] - 4s 158us/step - loss: 0.0175 - acc: 0.9959 - val_loss: 0.6961 - val_acc: 0.8520\n",
      "Epoch 18/20\n",
      "25000/25000 [==============================] - 3s 135us/step - loss: 0.0135 - acc: 0.9970 - val_loss: 0.7392 - val_acc: 0.8533\n",
      "Epoch 19/20\n",
      "25000/25000 [==============================] - 4s 145us/step - loss: 0.0113 - acc: 0.9976 - val_loss: 0.7779 - val_acc: 0.8516\n",
      "Epoch 20/20\n",
      "25000/25000 [==============================] - 4s 147us/step - loss: 0.0095 - acc: 0.9978 - val_loss: 0.8056 - val_acc: 0.8514\n"
     ]
    }
   ],
   "source": [
    "original_hist = original_model.fit(x_train, y_train,\n",
    "                                   epochs=20,\n",
    "                                   batch_size=512,\n",
    "                                   validation_data=(x_test, y_test))"
   ]
  },
  {
   "cell_type": "code",
   "execution_count": 17,
   "metadata": {},
   "outputs": [
    {
     "name": "stdout",
     "output_type": "stream",
     "text": [
      "Train on 25000 samples, validate on 25000 samples\n",
      "Epoch 1/20\n",
      "25000/25000 [==============================] - 4s 162us/step - loss: 0.6168 - acc: 0.7341 - val_loss: 0.5490 - val_acc: 0.8335\n",
      "Epoch 2/20\n",
      "25000/25000 [==============================] - 4s 160us/step - loss: 0.4709 - acc: 0.8701 - val_loss: 0.4332 - val_acc: 0.8684\n",
      "Epoch 3/20\n",
      "25000/25000 [==============================] - 4s 160us/step - loss: 0.3610 - acc: 0.8938 - val_loss: 0.3575 - val_acc: 0.8790\n",
      "Epoch 4/20\n",
      "25000/25000 [==============================] - 4s 158us/step - loss: 0.2896 - acc: 0.9080 - val_loss: 0.3138 - val_acc: 0.8864\n",
      "Epoch 5/20\n",
      "25000/25000 [==============================] - 4s 161us/step - loss: 0.2434 - acc: 0.9192 - val_loss: 0.2947 - val_acc: 0.8859\n",
      "Epoch 6/20\n",
      "25000/25000 [==============================] - 4s 166us/step - loss: 0.2124 - acc: 0.9279 - val_loss: 0.2800 - val_acc: 0.8908\n",
      "Epoch 7/20\n",
      "25000/25000 [==============================] - 4s 161us/step - loss: 0.1898 - acc: 0.9343 - val_loss: 0.2774 - val_acc: 0.8911\n",
      "Epoch 8/20\n",
      "25000/25000 [==============================] - 4s 156us/step - loss: 0.1728 - acc: 0.9405 - val_loss: 0.2795 - val_acc: 0.8897\n",
      "Epoch 9/20\n",
      "25000/25000 [==============================] - 4s 163us/step - loss: 0.1590 - acc: 0.9453 - val_loss: 0.2840 - val_acc: 0.8880\n",
      "Epoch 10/20\n",
      "25000/25000 [==============================] - 4s 161us/step - loss: 0.1471 - acc: 0.9505 - val_loss: 0.2907 - val_acc: 0.8867\n",
      "Epoch 11/20\n",
      "25000/25000 [==============================] - 4s 164us/step - loss: 0.1367 - acc: 0.9542 - val_loss: 0.3094 - val_acc: 0.8808\n",
      "Epoch 12/20\n",
      "25000/25000 [==============================] - 4s 159us/step - loss: 0.1275 - acc: 0.9575 - val_loss: 0.3084 - val_acc: 0.8826\n",
      "Epoch 13/20\n",
      "25000/25000 [==============================] - 4s 156us/step - loss: 0.1197 - acc: 0.9607 - val_loss: 0.3313 - val_acc: 0.8775\n",
      "Epoch 14/20\n",
      "25000/25000 [==============================] - 4s 156us/step - loss: 0.1120 - acc: 0.9632 - val_loss: 0.3344 - val_acc: 0.8762\n",
      "Epoch 15/20\n",
      "25000/25000 [==============================] - 4s 159us/step - loss: 0.1053 - acc: 0.9657 - val_loss: 0.3469 - val_acc: 0.8747\n",
      "Epoch 16/20\n",
      "25000/25000 [==============================] - 4s 161us/step - loss: 0.0987 - acc: 0.9688 - val_loss: 0.3561 - val_acc: 0.8748\n",
      "Epoch 17/20\n",
      "25000/25000 [==============================] - 4s 158us/step - loss: 0.0925 - acc: 0.9717 - val_loss: 0.3704 - val_acc: 0.8729\n",
      "Epoch 18/20\n",
      "25000/25000 [==============================] - 4s 156us/step - loss: 0.0870 - acc: 0.9731 - val_loss: 0.3854 - val_acc: 0.8724\n",
      "Epoch 19/20\n",
      "25000/25000 [==============================] - 4s 156us/step - loss: 0.0821 - acc: 0.9742 - val_loss: 0.4057 - val_acc: 0.8680\n",
      "Epoch 20/20\n",
      "25000/25000 [==============================] - 4s 155us/step - loss: 0.0768 - acc: 0.9774 - val_loss: 0.4237 - val_acc: 0.8652\n"
     ]
    }
   ],
   "source": [
    "smaller_model_hist = smaller_model.fit(x_train, y_train,\n",
    "                                       epochs=20,\n",
    "                                       batch_size=512,\n",
    "                                       validation_data=(x_test, y_test))"
   ]
  },
  {
   "cell_type": "code",
   "execution_count": 18,
   "metadata": {},
   "outputs": [],
   "source": [
    "epochs = range(1, 21)\n",
    "original_val_loss = original_hist.history['val_loss']\n",
    "smaller_model_val_loss = smaller_model_hist.history['val_loss']"
   ]
  },
  {
   "cell_type": "code",
   "execution_count": 19,
   "metadata": {},
   "outputs": [
    {
     "data": {
      "image/png": "[encoded data removed]",
      "text/plain": [
       "<Figure size 432x288 with 1 Axes>"
      ]
     },
     "metadata": {},
     "output_type": "display_data"
    }
   ],
   "source": [
    "%matplotlib inline\n",
    "import matplotlib.pyplot as plt\n",
    "\n",
    "# b+ is for \"blue cross\"\n",
    "plt.plot(epochs, original_val_loss, 'b+', label='Original model')\n",
    "# \"bo\" is for \"blue dot\"\n",
    "plt.plot(epochs, smaller_model_val_loss, 'bo', label='Smaller model')\n",
    "plt.xlabel('Epochs')\n",
    "plt.ylabel('Validation loss')\n",
    "plt.legend();"
   ]
  },
  {
   "cell_type": "markdown",
   "metadata": {},
   "source": [
    "Now for kicks, let's add to this benchmark a network that has much more capacity, far more than the problem would warrant:"
   ]
  },
  {
   "cell_type": "code",
   "execution_count": 20,
   "metadata": {},
   "outputs": [],
   "source": [
    "bigger_model = models.Sequential()\n",
    "bigger_model.add(layers.Dense(512, activation='relu', input_shape=(10000,)))\n",
    "bigger_model.add(layers.Dense(512, activation='relu'))\n",
    "bigger_model.add(layers.Dense(1, activation='sigmoid'))\n",
    "\n",
    "bigger_model.compile(optimizer='rmsprop',\n",
    "                     loss='binary_crossentropy',\n",
    "                     metrics=['acc'])"
   ]
  },
  {
   "cell_type": "code",
   "execution_count": 21,
   "metadata": {},
   "outputs": [
    {
     "name": "stdout",
     "output_type": "stream",
     "text": [
      "Train on 25000 samples, validate on 25000 samples\n",
      "Epoch 1/20\n",
      "25000/25000 [==============================] - 6s 246us/step - loss: 0.4608 - acc: 0.7899 - val_loss: 0.2749 - val_acc: 0.8887\n",
      "Epoch 2/20\n",
      "25000/25000 [==============================] - 6s 225us/step - loss: 0.2174 - acc: 0.9147 - val_loss: 0.2948 - val_acc: 0.8760\n",
      "Epoch 3/20\n",
      "25000/25000 [==============================] - 5s 218us/step - loss: 0.1267 - acc: 0.9531 - val_loss: 0.3196 - val_acc: 0.8857\n",
      "Epoch 4/20\n",
      "25000/25000 [==============================] - 6s 224us/step - loss: 0.0593 - acc: 0.9823 - val_loss: 0.4642 - val_acc: 0.8718\n",
      "Epoch 5/20\n",
      "25000/25000 [==============================] - 6s 223us/step - loss: 0.0709 - acc: 0.9865 - val_loss: 0.4968 - val_acc: 0.8816\n",
      "Epoch 6/20\n",
      "25000/25000 [==============================] - 5s 214us/step - loss: 0.0015 - acc: 0.9999 - val_loss: 0.6624 - val_acc: 0.8784\n",
      "Epoch 7/20\n",
      "25000/25000 [==============================] - 6s 222us/step - loss: 1.4047e-04 - acc: 1.0000 - val_loss: 0.8786 - val_acc: 0.8744\n",
      "Epoch 8/20\n",
      "25000/25000 [==============================] - 5s 204us/step - loss: 0.1373 - acc: 0.9857 - val_loss: 0.7475 - val_acc: 0.8786\n",
      "Epoch 9/20\n",
      "25000/25000 [==============================] - 6s 241us/step - loss: 6.0728e-04 - acc: 1.0000 - val_loss: 0.7555 - val_acc: 0.8787\n",
      "Epoch 10/20\n",
      "25000/25000 [==============================] - 5s 215us/step - loss: 1.2135e-05 - acc: 1.0000 - val_loss: 0.8248 - val_acc: 0.8792\n",
      "Epoch 11/20\n",
      "25000/25000 [==============================] - 5s 211us/step - loss: 3.3045e-06 - acc: 1.0000 - val_loss: 0.8957 - val_acc: 0.8794\n",
      "Epoch 12/20\n",
      "25000/25000 [==============================] - 6s 227us/step - loss: 7.0588e-07 - acc: 1.0000 - val_loss: 0.9869 - val_acc: 0.8783\n",
      "Epoch 13/20\n",
      "25000/25000 [==============================] - 5s 215us/step - loss: 2.0746e-07 - acc: 1.0000 - val_loss: 1.0381 - val_acc: 0.8786\n",
      "Epoch 14/20\n",
      "25000/25000 [==============================] - 6s 236us/step - loss: 1.3226e-07 - acc: 1.0000 - val_loss: 1.0653 - val_acc: 0.8785\n",
      "Epoch 15/20\n",
      "25000/25000 [==============================] - 6s 228us/step - loss: 1.1894e-07 - acc: 1.0000 - val_loss: 1.0779 - val_acc: 0.8785\n",
      "Epoch 16/20\n",
      "25000/25000 [==============================] - 5s 205us/step - loss: 1.1476e-07 - acc: 1.0000 - val_loss: 1.0858 - val_acc: 0.8785\n",
      "Epoch 17/20\n",
      "25000/25000 [==============================] - 6s 235us/step - loss: 1.1293e-07 - acc: 1.0000 - val_loss: 1.0928 - val_acc: 0.8786\n",
      "Epoch 18/20\n",
      "25000/25000 [==============================] - 6s 228us/step - loss: 1.1188e-07 - acc: 1.0000 - val_loss: 1.0967 - val_acc: 0.8786\n",
      "Epoch 19/20\n",
      "25000/25000 [==============================] - 5s 217us/step - loss: 1.1133e-07 - acc: 1.0000 - val_loss: 1.1005 - val_acc: 0.8785\n",
      "Epoch 20/20\n",
      "25000/25000 [==============================] - 5s 212us/step - loss: 1.1096e-07 - acc: 1.0000 - val_loss: 1.1034 - val_acc: 0.8784\n"
     ]
    }
   ],
   "source": [
    "bigger_model_hist = bigger_model.fit(x_train, y_train,\n",
    "                                     epochs=20,\n",
    "                                     batch_size=512,\n",
    "                                     validation_data=(x_test, y_test))"
   ]
  },
  {
   "cell_type": "code",
   "execution_count": 23,
   "metadata": {},
   "outputs": [
    {
     "data": {
      "image/png": "[encoded data removed]",
      "text/plain": [
       "<Figure size 432x288 with 1 Axes>"
      ]
     },
     "metadata": {},
     "output_type": "display_data"
    }
   ],
   "source": [
    "bigger_model_val_loss = bigger_model_hist.history['val_loss']\n",
    "\n",
    "plt.plot(epochs, original_val_loss, 'b+', label='Original model')\n",
    "plt.plot(epochs, bigger_model_val_loss, 'bo', label='Bigger model')\n",
    "plt.xlabel('Epochs')\n",
    "plt.ylabel('Validation loss')\n",
    "plt.legend();"
   ]
  },
  {
   "cell_type": "markdown",
   "metadata": {},
   "source": [
    "The bigget model starts overfitting almost right away, after just one epoch, and overfits much more severekym Its validation loss is also more noisy.\n",
    "\n",
    "Meanwhile, here are the training losses for our two networks:"
   ]
  },
  {
   "cell_type": "code",
   "execution_count": 24,
   "metadata": {},
   "outputs": [
    {
     "data": {
      "image/png": "[encoded data removed]",
      "text/plain": [
       "<Figure size 432x288 with 1 Axes>"
      ]
     },
     "metadata": {},
     "output_type": "display_data"
    }
   ],
   "source": [
    "original_train_loss = original_hist.history['loss']\n",
    "bigger_model_train_loss = bigger_model_hist.history['loss']\n",
    "\n",
    "plt.plot(epochs, original_train_loss, 'b+', label='Original model')\n",
    "plt.plot(epochs, bigger_model_train_loss, 'bo', label='Bigger model')\n",
    "plt.xlabel('Epochs')\n",
    "plt.ylabel('Training loss')\n",
    "plt.legend();"
   ]
  },
  {
   "cell_type": "markdown",
   "metadata": {},
   "source": [
    "## Adding weight regularization\n"
   ]
  },
  {
   "cell_type": "code",
   "execution_count": 25,
   "metadata": {},
   "outputs": [],
   "source": [
    "from keras import regularizers\n",
    "\n",
    "l2_model = models.Sequential()\n",
    "l2_model.add(layers.Dense(16, kernel_regularizer=regularizers.l2(0.001),\n",
    "                          activation='relu', input_shape=(10000,)))\n",
    "l2_model.add(layers.Dense(16, kernel_regularizer=regularizers.l2(0.001),\n",
    "                          activation='relu'))\n",
    "l2_model.add(layers.Dense(1, activation='sigmoid'))"
   ]
  },
  {
   "cell_type": "code",
   "execution_count": 26,
   "metadata": {},
   "outputs": [],
   "source": [
    "l2_model.compile(optimizer='rmsprop',\n",
    "                 loss='binary_crossentropy',\n",
    "                 metrics=['acc'])"
   ]
  },
  {
   "cell_type": "markdown",
   "metadata": {},
   "source": [
    "`l2(0.001)` means that every coefficient in the weight matrix of the layer will add `0.001 * weight_coefficient_value` to the total loss of the network. Note that because this penalty is only added at training time, the loss for this network will be much higher at training than at test time.\n",
    "\n",
    "Here's the impact of our L2 regularization penalty:\n"
   ]
  },
  {
   "cell_type": "code",
   "execution_count": 27,
   "metadata": {},
   "outputs": [
    {
     "name": "stdout",
     "output_type": "stream",
     "text": [
      "Train on 25000 samples, validate on 25000 samples\n",
      "Epoch 1/20\n",
      "25000/25000 [==============================] - 4s 156us/step - loss: 0.4987 - acc: 0.8206 - val_loss: 0.4033 - val_acc: 0.8610\n",
      "Epoch 2/20\n",
      "25000/25000 [==============================] - 3s 135us/step - loss: 0.3204 - acc: 0.9058 - val_loss: 0.3367 - val_acc: 0.8893\n",
      "Epoch 3/20\n",
      "25000/25000 [==============================] - 3s 132us/step - loss: 0.2769 - acc: 0.9181 - val_loss: 0.3339 - val_acc: 0.8881\n",
      "Epoch 4/20\n",
      "25000/25000 [==============================] - 3s 119us/step - loss: 0.2545 - acc: 0.9256 - val_loss: 0.3339 - val_acc: 0.8874\n",
      "Epoch 5/20\n",
      "25000/25000 [==============================] - 3s 117us/step - loss: 0.2428 - acc: 0.9307 - val_loss: 0.3408 - val_acc: 0.8855\n",
      "Epoch 6/20\n",
      "25000/25000 [==============================] - 3s 119us/step - loss: 0.2330 - acc: 0.9363 - val_loss: 0.3486 - val_acc: 0.8834\n",
      "Epoch 7/20\n",
      "25000/25000 [==============================] - 3s 113us/step - loss: 0.2278 - acc: 0.9392 - val_loss: 0.3634 - val_acc: 0.8783\n",
      "Epoch 8/20\n",
      "25000/25000 [==============================] - 3s 122us/step - loss: 0.2197 - acc: 0.9423 - val_loss: 0.3851 - val_acc: 0.8718\n",
      "Epoch 9/20\n",
      "25000/25000 [==============================] - 3s 134us/step - loss: 0.2177 - acc: 0.9425 - val_loss: 0.3685 - val_acc: 0.8777\n",
      "Epoch 10/20\n",
      "25000/25000 [==============================] - 4s 146us/step - loss: 0.2136 - acc: 0.9430 - val_loss: 0.4198 - val_acc: 0.8646\n",
      "Epoch 11/20\n",
      "25000/25000 [==============================] - 3s 124us/step - loss: 0.2124 - acc: 0.9421 - val_loss: 0.3789 - val_acc: 0.8752\n",
      "Epoch 12/20\n",
      "25000/25000 [==============================] - 3s 129us/step - loss: 0.2060 - acc: 0.9472 - val_loss: 0.4022 - val_acc: 0.8705\n",
      "Epoch 13/20\n",
      "25000/25000 [==============================] - 3s 117us/step - loss: 0.2062 - acc: 0.9461 - val_loss: 0.3955 - val_acc: 0.8739\n",
      "Epoch 14/20\n",
      "25000/25000 [==============================] - 4s 141us/step - loss: 0.2022 - acc: 0.9477 - val_loss: 0.3969 - val_acc: 0.8718\n",
      "Epoch 15/20\n",
      "25000/25000 [==============================] - 3s 120us/step - loss: 0.2033 - acc: 0.9458 - val_loss: 0.4004 - val_acc: 0.8722\n",
      "Epoch 16/20\n",
      "25000/25000 [==============================] - 4s 154us/step - loss: 0.1970 - acc: 0.9489 - val_loss: 0.4612 - val_acc: 0.8522\n",
      "Epoch 17/20\n",
      "25000/25000 [==============================] - 3s 135us/step - loss: 0.2016 - acc: 0.9468 - val_loss: 0.4094 - val_acc: 0.8689\n",
      "Epoch 18/20\n",
      "25000/25000 [==============================] - 3s 133us/step - loss: 0.1912 - acc: 0.9528 - val_loss: 0.4139 - val_acc: 0.8686\n",
      "Epoch 19/20\n",
      "25000/25000 [==============================] - 3s 132us/step - loss: 0.1951 - acc: 0.9494 - val_loss: 0.4340 - val_acc: 0.8667\n",
      "Epoch 20/20\n",
      "25000/25000 [==============================] - 3s 135us/step - loss: 0.1909 - acc: 0.9506 - val_loss: 0.4554 - val_acc: 0.8631\n"
     ]
    }
   ],
   "source": [
    "l2_model_hist = l2_model.fit(x_train, y_train,\n",
    "                             epochs=20,\n",
    "                             batch_size=512,\n",
    "                             validation_data=(x_test, y_test))"
   ]
  },
  {
   "cell_type": "code",
   "execution_count": 28,
   "metadata": {},
   "outputs": [
    {
     "data": {
      "image/png": "[encoded data removed]",
      "text/plain": [
       "<Figure size 432x288 with 1 Axes>"
      ]
     },
     "metadata": {},
     "output_type": "display_data"
    }
   ],
   "source": [
    "l2_model_val_loss = l2_model_hist.history['val_loss']\n",
    "\n",
    "plt.plot(epochs, original_val_loss, 'b+', label='Original model')\n",
    "plt.plot(epochs, l2_model_val_loss, 'bo', label='L2-regularized model')\n",
    "plt.xlabel('Epochs')\n",
    "plt.ylabel('Validation loss')\n",
    "plt.legend();"
   ]
  },
  {
   "cell_type": "markdown",
   "metadata": {},
   "source": [
    "## Adding dropouts"
   ]
  },
  {
   "cell_type": "code",
   "execution_count": 29,
   "metadata": {},
   "outputs": [],
   "source": [
    "dpt_model = models.Sequential()\n",
    "dpt_model.add(layers.Dense(16, activation='relu', input_shape=(10000,)))\n",
    "dpt_model.add(layers.Dropout(0.5))\n",
    "dpt_model.add(layers.Dense(16, activation='relu'))\n",
    "dpt_model.add(layers.Dropout(0.5))\n",
    "dpt_model.add(layers.Dense(1, activation='sigmoid'))\n",
    "\n",
    "dpt_model.compile(optimizer='rmsprop',\n",
    "                  loss='binary_crossentropy',\n",
    "                  metrics=['acc'])"
   ]
  },
  {
   "cell_type": "code",
   "execution_count": 30,
   "metadata": {},
   "outputs": [
    {
     "name": "stdout",
     "output_type": "stream",
     "text": [
      "Train on 25000 samples, validate on 25000 samples\n",
      "Epoch 1/20\n",
      "25000/25000 [==============================] - 4s 161us/step - loss: 0.5934 - acc: 0.6733 - val_loss: 0.4664 - val_acc: 0.8508\n",
      "Epoch 2/20\n",
      "25000/25000 [==============================] - 4s 148us/step - loss: 0.4437 - acc: 0.8196 - val_loss: 0.3515 - val_acc: 0.8808\n",
      "Epoch 3/20\n",
      "25000/25000 [==============================] - 4s 141us/step - loss: 0.3626 - acc: 0.8702 - val_loss: 0.3045 - val_acc: 0.8857\n",
      "Epoch 4/20\n",
      "25000/25000 [==============================] - 4s 141us/step - loss: 0.3075 - acc: 0.8952 - val_loss: 0.2858 - val_acc: 0.8879\n",
      "Epoch 5/20\n",
      "25000/25000 [==============================] - 3s 138us/step - loss: 0.2630 - acc: 0.9118 - val_loss: 0.2855 - val_acc: 0.8864\n",
      "Epoch 6/20\n",
      "25000/25000 [==============================] - 3s 139us/step - loss: 0.2343 - acc: 0.9230 - val_loss: 0.2934 - val_acc: 0.8850\n",
      "Epoch 7/20\n",
      "25000/25000 [==============================] - 4s 145us/step - loss: 0.2077 - acc: 0.9331 - val_loss: 0.3103 - val_acc: 0.8850\n",
      "Epoch 8/20\n",
      "25000/25000 [==============================] - 4s 153us/step - loss: 0.1893 - acc: 0.9378 - val_loss: 0.3278 - val_acc: 0.8832\n",
      "Epoch 9/20\n",
      "25000/25000 [==============================] - 3s 138us/step - loss: 0.1763 - acc: 0.9410 - val_loss: 0.3468 - val_acc: 0.8813\n",
      "Epoch 10/20\n",
      "25000/25000 [==============================] - 3s 135us/step - loss: 0.1627 - acc: 0.9452 - val_loss: 0.3794 - val_acc: 0.8799\n",
      "Epoch 11/20\n",
      "25000/25000 [==============================] - 3s 135us/step - loss: 0.1543 - acc: 0.9485 - val_loss: 0.3947 - val_acc: 0.8694\n",
      "Epoch 12/20\n",
      "25000/25000 [==============================] - 3s 135us/step - loss: 0.1381 - acc: 0.9546 - val_loss: 0.4182 - val_acc: 0.8771\n",
      "Epoch 13/20\n",
      "25000/25000 [==============================] - 4s 151us/step - loss: 0.1325 - acc: 0.9561 - val_loss: 0.4503 - val_acc: 0.8758\n",
      "Epoch 14/20\n",
      "25000/25000 [==============================] - 3s 136us/step - loss: 0.1257 - acc: 0.9584 - val_loss: 0.4585 - val_acc: 0.8758\n",
      "Epoch 15/20\n",
      "25000/25000 [==============================] - 4s 151us/step - loss: 0.1213 - acc: 0.9589 - val_loss: 0.4779 - val_acc: 0.8706\n",
      "Epoch 16/20\n",
      "25000/25000 [==============================] - 3s 138us/step - loss: 0.1170 - acc: 0.9603 - val_loss: 0.4986 - val_acc: 0.8671\n",
      "Epoch 17/20\n",
      "25000/25000 [==============================] - 3s 136us/step - loss: 0.1132 - acc: 0.9619 - val_loss: 0.5226 - val_acc: 0.8741\n",
      "Epoch 18/20\n",
      "25000/25000 [==============================] - 3s 137us/step - loss: 0.1161 - acc: 0.9615 - val_loss: 0.5497 - val_acc: 0.8742\n",
      "Epoch 19/20\n",
      "25000/25000 [==============================] - 3s 137us/step - loss: 0.1101 - acc: 0.9626 - val_loss: 0.5573 - val_acc: 0.8700\n",
      "Epoch 20/20\n",
      "25000/25000 [==============================] - 3s 137us/step - loss: 0.1074 - acc: 0.9628 - val_loss: 0.5898 - val_acc: 0.8730\n"
     ]
    }
   ],
   "source": [
    "dpt_model_hist = dpt_model.fit(x_train, y_train,\n",
    "                               epochs=20,\n",
    "                               batch_size=512,\n",
    "                               validation_data=(x_test, y_test))"
   ]
  },
  {
   "cell_type": "code",
   "execution_count": 32,
   "metadata": {},
   "outputs": [
    {
     "data": {
      "image/png": "[encoded data removed]",
      "text/plain": [
       "<Figure size 432x288 with 1 Axes>"
      ]
     },
     "metadata": {},
     "output_type": "display_data"
    }
   ],
   "source": [
    "dpt_model_val_loss = dpt_model_hist.history['val_loss']\n",
    "\n",
    "plt.plot(epochs, original_val_loss, 'b+', label='Original model')\n",
    "plt.plot(epochs, dpt_model_val_loss, 'bo', label='Dropout-regularized model')\n",
    "plt.xlabel('Epochs')\n",
    "plt.ylabel('Validation loss')\n",
    "plt.legend();"
   ]
  },
  {
   "cell_type": "markdown",
   "metadata": {},
   "source": [
    "\n",
    "Again, a clear improvement over the reference network.\n",
    "\n",
    "To recap: here the most common ways to prevent overfitting in neural networks:\n",
    "\n",
    "* Getting more training data.\n",
    "* Reducing the capacity of the network.\n",
    "* Adding weight regularization.\n",
    "* Adding dropout."
   ]
  }
 ],
 "metadata": {
  "kernelspec": {
   "display_name": "Python 3",
   "language": "python",
   "name": "python3"
  },
  "language_info": {
   "codemirror_mode": {
    "name": "ipython",
    "version": 3
   },
   "file_extension": ".py",
   "mimetype": "text/x-python",
   "name": "python",
   "nbconvert_exporter": "python",
   "pygments_lexer": "ipython3",
   "version": "3.6.5"
  }
 },
 "nbformat": 4,
 "nbformat_minor": 2
}
